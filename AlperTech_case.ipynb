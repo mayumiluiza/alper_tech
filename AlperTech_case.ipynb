{
 "cells": [
  {
   "cell_type": "markdown",
   "metadata": {},
   "source": [
    "# Importando Bibliotecas"
   ]
  },
  {
   "cell_type": "code",
   "execution_count": 79,
   "metadata": {
    "ExecuteTime": {
     "end_time": "2023-08-25T15:52:08.757776Z",
     "start_time": "2023-08-25T15:52:07.957702Z"
    }
   },
   "outputs": [],
   "source": [
    "import pandas as pd\n",
    "import matplotlib.pyplot as plt\n"
   ]
  },
  {
   "cell_type": "markdown",
   "metadata": {},
   "source": [
    "# Abrindo Arquivos"
   ]
  },
  {
   "cell_type": "code",
   "execution_count": 2,
   "metadata": {
    "ExecuteTime": {
     "end_time": "2023-08-25T14:43:37.907892Z",
     "start_time": "2023-08-25T14:43:35.722222Z"
    }
   },
   "outputs": [
    {
     "name": "stderr",
     "output_type": "stream",
     "text": [
      "/var/folders/39/b_95705d30x7x38r03qf35500000gn/T/ipykernel_36974/4212836109.py:1: DtypeWarning: Columns (4,5,6,7,8,9,10,11,12,13,14,15,16,17,18,19,20) have mixed types. Specify dtype option on import or set low_memory=False.\n",
      "  seguros = pd.read_csv('/Users/mayumiluiza/Downloads/BaseCompleta/Ses_seguros.csv', sep=';')\n"
     ]
    }
   ],
   "source": [
    "seguros = pd.read_csv('/Users/mayumiluiza/Downloads/BaseCompleta/Ses_seguros.csv', sep=';')\n"
   ]
  },
  {
   "cell_type": "code",
   "execution_count": 3,
   "metadata": {
    "ExecuteTime": {
     "end_time": "2023-08-25T14:43:47.489973Z",
     "start_time": "2023-08-25T14:43:37.908835Z"
    }
   },
   "outputs": [
    {
     "name": "stderr",
     "output_type": "stream",
     "text": [
      "/var/folders/39/b_95705d30x7x38r03qf35500000gn/T/ipykernel_36974/4082301245.py:1: DtypeWarning: Columns (9,10) have mixed types. Specify dtype option on import or set low_memory=False.\n",
      "  seguros_uf = pd.read_csv('/Users/mayumiluiza/Downloads/BaseCompleta/SES_UF2.csv', sep=';')\n"
     ]
    }
   ],
   "source": [
    "seguros_uf = pd.read_csv('/Users/mayumiluiza/Downloads/BaseCompleta/SES_UF2.csv', sep=';')"
   ]
  },
  {
   "cell_type": "code",
   "execution_count": 4,
   "metadata": {
    "ExecuteTime": {
     "end_time": "2023-08-25T14:43:48.074060Z",
     "start_time": "2023-08-25T14:43:47.493374Z"
    }
   },
   "outputs": [
    {
     "data": {
      "text/plain": [
       "True     8281534\n",
       "False       9881\n",
       "dtype: int64"
      ]
     },
     "execution_count": 4,
     "metadata": {},
     "output_type": "execute_result"
    }
   ],
   "source": [
    "(seguros_uf['premio_ret'] == seguros_uf['prem_ret_liq']).value_counts()"
   ]
  },
  {
   "cell_type": "code",
   "execution_count": 5,
   "metadata": {
    "ExecuteTime": {
     "end_time": "2023-08-25T14:43:48.159430Z",
     "start_time": "2023-08-25T14:43:48.075101Z"
    }
   },
   "outputs": [],
   "source": [
    "seguradoras = pd.read_csv('/Users/mayumiluiza/Downloads/BaseCompleta/Ses_grupos_economicos.csv', sep=';', encoding='latin-1')"
   ]
  },
  {
   "cell_type": "code",
   "execution_count": 6,
   "metadata": {
    "ExecuteTime": {
     "end_time": "2023-08-25T14:43:48.163804Z",
     "start_time": "2023-08-25T14:43:48.160494Z"
    }
   },
   "outputs": [],
   "source": [
    "ramo_fip = pd.read_csv('/Users/mayumiluiza/Downloads/BaseCompleta/Ses_ramos.csv', sep=';', encoding='latin-1')"
   ]
  },
  {
   "cell_type": "markdown",
   "metadata": {},
   "source": [
    "# Visão Geral Planilha Seguros (\"Ses_seguros.csv\")"
   ]
  },
  {
   "cell_type": "code",
   "execution_count": 7,
   "metadata": {
    "ExecuteTime": {
     "end_time": "2023-08-25T14:43:48.167066Z",
     "start_time": "2023-08-25T14:43:48.164614Z"
    }
   },
   "outputs": [
    {
     "data": {
      "text/plain": [
       "1611297"
      ]
     },
     "execution_count": 7,
     "metadata": {},
     "output_type": "execute_result"
    }
   ],
   "source": [
    "#tamanho da tabela\n",
    "len(seguros)"
   ]
  },
  {
   "cell_type": "code",
   "execution_count": 8,
   "metadata": {
    "ExecuteTime": {
     "end_time": "2023-08-25T14:43:48.184076Z",
     "start_time": "2023-08-25T14:43:48.168174Z"
    },
    "scrolled": true
   },
   "outputs": [
    {
     "data": {
      "text/html": [
       "<div>\n",
       "<style scoped>\n",
       "    .dataframe tbody tr th:only-of-type {\n",
       "        vertical-align: middle;\n",
       "    }\n",
       "\n",
       "    .dataframe tbody tr th {\n",
       "        vertical-align: top;\n",
       "    }\n",
       "\n",
       "    .dataframe thead th {\n",
       "        text-align: right;\n",
       "    }\n",
       "</style>\n",
       "<table border=\"1\" class=\"dataframe\">\n",
       "  <thead>\n",
       "    <tr style=\"text-align: right;\">\n",
       "      <th></th>\n",
       "      <th>damesano</th>\n",
       "      <th>coenti</th>\n",
       "      <th>cogrupo</th>\n",
       "      <th>coramo</th>\n",
       "      <th>premio_direto</th>\n",
       "      <th>premio_de_seguros</th>\n",
       "      <th>premio_retido</th>\n",
       "      <th>premio_ganho</th>\n",
       "      <th>sinistro_direto</th>\n",
       "      <th>sinistro_retido</th>\n",
       "      <th>...</th>\n",
       "      <th>premio_emitido2</th>\n",
       "      <th>premio_emitido_cap</th>\n",
       "      <th>despesa_resseguros</th>\n",
       "      <th>sinistro_ocorrido</th>\n",
       "      <th>receita_resseguro</th>\n",
       "      <th>sinistros_ocorridos_cap</th>\n",
       "      <th>recuperacao_sinistros_ocorridos_cap</th>\n",
       "      <th>rvne</th>\n",
       "      <th>conveniodpvat</th>\n",
       "      <th>consorciosefundos</th>\n",
       "    </tr>\n",
       "  </thead>\n",
       "  <tbody>\n",
       "    <tr>\n",
       "      <th>0</th>\n",
       "      <td>200009</td>\n",
       "      <td>5355</td>\n",
       "      <td>299</td>\n",
       "      <td>981.0</td>\n",
       "      <td>350407,58</td>\n",
       "      <td>350562,87</td>\n",
       "      <td>350291,83</td>\n",
       "      <td>322318,58</td>\n",
       "      <td>9115,33</td>\n",
       "      <td>9153,15</td>\n",
       "      <td>...</td>\n",
       "      <td>0</td>\n",
       "      <td>0</td>\n",
       "      <td>0</td>\n",
       "      <td>0</td>\n",
       "      <td>0</td>\n",
       "      <td>0</td>\n",
       "      <td>0</td>\n",
       "      <td>0</td>\n",
       "      <td>0</td>\n",
       "      <td>0</td>\n",
       "    </tr>\n",
       "    <tr>\n",
       "      <th>1</th>\n",
       "      <td>200009</td>\n",
       "      <td>5363</td>\n",
       "      <td>451</td>\n",
       "      <td>993.0</td>\n",
       "      <td>2021293</td>\n",
       "      <td>1269929</td>\n",
       "      <td>1270199</td>\n",
       "      <td>1289821</td>\n",
       "      <td>1064400</td>\n",
       "      <td>1064400</td>\n",
       "      <td>...</td>\n",
       "      <td>0</td>\n",
       "      <td>0</td>\n",
       "      <td>0</td>\n",
       "      <td>0</td>\n",
       "      <td>0</td>\n",
       "      <td>0</td>\n",
       "      <td>0</td>\n",
       "      <td>0</td>\n",
       "      <td>0</td>\n",
       "      <td>0</td>\n",
       "    </tr>\n",
       "    <tr>\n",
       "      <th>2</th>\n",
       "      <td>200009</td>\n",
       "      <td>5401</td>\n",
       "      <td>272</td>\n",
       "      <td>111.0</td>\n",
       "      <td>0</td>\n",
       "      <td>0</td>\n",
       "      <td>2108,63</td>\n",
       "      <td>1986,03</td>\n",
       "      <td>0</td>\n",
       "      <td>13317,38</td>\n",
       "      <td>...</td>\n",
       "      <td>0</td>\n",
       "      <td>0</td>\n",
       "      <td>0</td>\n",
       "      <td>0</td>\n",
       "      <td>0</td>\n",
       "      <td>0</td>\n",
       "      <td>0</td>\n",
       "      <td>0</td>\n",
       "      <td>0</td>\n",
       "      <td>0</td>\n",
       "    </tr>\n",
       "    <tr>\n",
       "      <th>3</th>\n",
       "      <td>200009</td>\n",
       "      <td>5401</td>\n",
       "      <td>272</td>\n",
       "      <td>621.0</td>\n",
       "      <td>0</td>\n",
       "      <td>0</td>\n",
       "      <td>230,56</td>\n",
       "      <td>236,83</td>\n",
       "      <td>0</td>\n",
       "      <td>128,31</td>\n",
       "      <td>...</td>\n",
       "      <td>0</td>\n",
       "      <td>0</td>\n",
       "      <td>0</td>\n",
       "      <td>0</td>\n",
       "      <td>0</td>\n",
       "      <td>0</td>\n",
       "      <td>0</td>\n",
       "      <td>0</td>\n",
       "      <td>0</td>\n",
       "      <td>0</td>\n",
       "    </tr>\n",
       "    <tr>\n",
       "      <th>4</th>\n",
       "      <td>200009</td>\n",
       "      <td>5401</td>\n",
       "      <td>272</td>\n",
       "      <td>1164.0</td>\n",
       "      <td>0</td>\n",
       "      <td>0</td>\n",
       "      <td>0</td>\n",
       "      <td>0</td>\n",
       "      <td>0</td>\n",
       "      <td>40,58</td>\n",
       "      <td>...</td>\n",
       "      <td>0</td>\n",
       "      <td>0</td>\n",
       "      <td>0</td>\n",
       "      <td>0</td>\n",
       "      <td>0</td>\n",
       "      <td>0</td>\n",
       "      <td>0</td>\n",
       "      <td>0</td>\n",
       "      <td>0</td>\n",
       "      <td>0</td>\n",
       "    </tr>\n",
       "  </tbody>\n",
       "</table>\n",
       "<p>5 rows × 21 columns</p>\n",
       "</div>"
      ],
      "text/plain": [
       "   damesano  coenti  cogrupo  coramo premio_direto premio_de_seguros  \\\n",
       "0    200009    5355      299   981.0     350407,58         350562,87   \n",
       "1    200009    5363      451   993.0       2021293           1269929   \n",
       "2    200009    5401      272   111.0             0                 0   \n",
       "3    200009    5401      272   621.0             0                 0   \n",
       "4    200009    5401      272  1164.0             0                 0   \n",
       "\n",
       "  premio_retido premio_ganho sinistro_direto sinistro_retido  ...  \\\n",
       "0     350291,83    322318,58         9115,33         9153,15  ...   \n",
       "1       1270199      1289821         1064400         1064400  ...   \n",
       "2       2108,63      1986,03               0        13317,38  ...   \n",
       "3        230,56       236,83               0          128,31  ...   \n",
       "4             0            0               0           40,58  ...   \n",
       "\n",
       "  premio_emitido2 premio_emitido_cap despesa_resseguros sinistro_ocorrido  \\\n",
       "0               0                  0                  0                 0   \n",
       "1               0                  0                  0                 0   \n",
       "2               0                  0                  0                 0   \n",
       "3               0                  0                  0                 0   \n",
       "4               0                  0                  0                 0   \n",
       "\n",
       "  receita_resseguro sinistros_ocorridos_cap  \\\n",
       "0                 0                       0   \n",
       "1                 0                       0   \n",
       "2                 0                       0   \n",
       "3                 0                       0   \n",
       "4                 0                       0   \n",
       "\n",
       "  recuperacao_sinistros_ocorridos_cap rvne conveniodpvat consorciosefundos  \n",
       "0                                   0    0             0                 0  \n",
       "1                                   0    0             0                 0  \n",
       "2                                   0    0             0                 0  \n",
       "3                                   0    0             0                 0  \n",
       "4                                   0    0             0                 0  \n",
       "\n",
       "[5 rows x 21 columns]"
      ]
     },
     "execution_count": 8,
     "metadata": {},
     "output_type": "execute_result"
    }
   ],
   "source": [
    "#cabeçalho da tabela\n",
    "seguros.head()"
   ]
  },
  {
   "cell_type": "code",
   "execution_count": 9,
   "metadata": {
    "ExecuteTime": {
     "end_time": "2023-08-25T14:43:48.188290Z",
     "start_time": "2023-08-25T14:43:48.185262Z"
    }
   },
   "outputs": [
    {
     "data": {
      "text/plain": [
       "Index(['damesano', 'coenti', 'cogrupo', 'coramo', 'premio_direto',\n",
       "       'premio_de_seguros', 'premio_retido', 'premio_ganho', 'sinistro_direto',\n",
       "       'sinistro_retido', 'desp_com', 'premio_emitido2', 'premio_emitido_cap',\n",
       "       'despesa_resseguros', 'sinistro_ocorrido', 'receita_resseguro',\n",
       "       'sinistros_ocorridos_cap', 'recuperacao_sinistros_ocorridos_cap',\n",
       "       'rvne', 'conveniodpvat', 'consorciosefundos'],\n",
       "      dtype='object')"
      ]
     },
     "execution_count": 9,
     "metadata": {},
     "output_type": "execute_result"
    }
   ],
   "source": [
    "#colunas da tabela\n",
    "seguros.columns"
   ]
  },
  {
   "cell_type": "code",
   "execution_count": 10,
   "metadata": {
    "ExecuteTime": {
     "end_time": "2023-08-25T14:43:51.027922Z",
     "start_time": "2023-08-25T14:43:48.191087Z"
    }
   },
   "outputs": [
    {
     "name": "stdout",
     "output_type": "stream",
     "text": [
      "<class 'pandas.core.frame.DataFrame'>\n",
      "RangeIndex: 1611297 entries, 0 to 1611296\n",
      "Data columns (total 21 columns):\n",
      " #   Column                               Non-Null Count    Dtype  \n",
      "---  ------                               --------------    -----  \n",
      " 0   damesano                             1611297 non-null  int64  \n",
      " 1   coenti                               1611297 non-null  int64  \n",
      " 2   cogrupo                              1611297 non-null  int64  \n",
      " 3   coramo                               1611295 non-null  float64\n",
      " 4   premio_direto                        1611297 non-null  object \n",
      " 5   premio_de_seguros                    1611297 non-null  object \n",
      " 6   premio_retido                        1611297 non-null  object \n",
      " 7   premio_ganho                         1611297 non-null  object \n",
      " 8   sinistro_direto                      1611297 non-null  object \n",
      " 9   sinistro_retido                      1611281 non-null  object \n",
      " 10  desp_com                             1611297 non-null  object \n",
      " 11  premio_emitido2                      1611297 non-null  object \n",
      " 12  premio_emitido_cap                   1611297 non-null  object \n",
      " 13  despesa_resseguros                   1611297 non-null  object \n",
      " 14  sinistro_ocorrido                    1611297 non-null  object \n",
      " 15  receita_resseguro                    1611297 non-null  object \n",
      " 16  sinistros_ocorridos_cap              1611297 non-null  object \n",
      " 17  recuperacao_sinistros_ocorridos_cap  1611297 non-null  object \n",
      " 18  rvne                                 1611297 non-null  object \n",
      " 19  conveniodpvat                        1611297 non-null  object \n",
      " 20  consorciosefundos                    1611297 non-null  object \n",
      "dtypes: float64(1), int64(3), object(17)\n",
      "memory usage: 258.2+ MB\n"
     ]
    }
   ],
   "source": [
    "seguros.info()"
   ]
  },
  {
   "cell_type": "markdown",
   "metadata": {},
   "source": [
    "# Visão Geral Planilha Seguradoras (\"Ses_grupos_economicos.csv\")"
   ]
  },
  {
   "cell_type": "code",
   "execution_count": 11,
   "metadata": {
    "ExecuteTime": {
     "end_time": "2023-08-25T14:43:51.034102Z",
     "start_time": "2023-08-25T14:43:51.029220Z"
    }
   },
   "outputs": [
    {
     "data": {
      "text/html": [
       "<div>\n",
       "<style scoped>\n",
       "    .dataframe tbody tr th:only-of-type {\n",
       "        vertical-align: middle;\n",
       "    }\n",
       "\n",
       "    .dataframe tbody tr th {\n",
       "        vertical-align: top;\n",
       "    }\n",
       "\n",
       "    .dataframe thead th {\n",
       "        text-align: right;\n",
       "    }\n",
       "</style>\n",
       "<table border=\"1\" class=\"dataframe\">\n",
       "  <thead>\n",
       "    <tr style=\"text-align: right;\">\n",
       "      <th></th>\n",
       "      <th>damesano</th>\n",
       "      <th>coenti</th>\n",
       "      <th>noenti</th>\n",
       "      <th>cogrupo</th>\n",
       "      <th>nogrupo</th>\n",
       "    </tr>\n",
       "  </thead>\n",
       "  <tbody>\n",
       "    <tr>\n",
       "      <th>0</th>\n",
       "      <td>200405</td>\n",
       "      <td>1007</td>\n",
       "      <td>SABEMI SEGURADORA SA                          ...</td>\n",
       "      <td>1225.0</td>\n",
       "      <td>INDEPENDENTE</td>\n",
       "    </tr>\n",
       "    <tr>\n",
       "      <th>1</th>\n",
       "      <td>200708</td>\n",
       "      <td>1619</td>\n",
       "      <td>DAYPREV VIDA E PREVIDÊNCIA S.A.               ...</td>\n",
       "      <td>99999.0</td>\n",
       "      <td>OUTROS GRUPOS</td>\n",
       "    </tr>\n",
       "    <tr>\n",
       "      <th>2</th>\n",
       "      <td>201001</td>\n",
       "      <td>2062</td>\n",
       "      <td>LUIZASEG SEGUROS S/A                          ...</td>\n",
       "      <td>1203.0</td>\n",
       "      <td>CARDIF</td>\n",
       "    </tr>\n",
       "    <tr>\n",
       "      <th>3</th>\n",
       "      <td>200602</td>\n",
       "      <td>2143</td>\n",
       "      <td>ASSURANT SEGURADORA SA                        ...</td>\n",
       "      <td>1225.0</td>\n",
       "      <td>INDEPENDENTE</td>\n",
       "    </tr>\n",
       "    <tr>\n",
       "      <th>4</th>\n",
       "      <td>200709</td>\n",
       "      <td>2895</td>\n",
       "      <td>Alfa Previdência e Vida S.A.                  ...</td>\n",
       "      <td>1192.0</td>\n",
       "      <td>ALFA</td>\n",
       "    </tr>\n",
       "  </tbody>\n",
       "</table>\n",
       "</div>"
      ],
      "text/plain": [
       "  damesano  coenti                                             noenti  \\\n",
       "0   200405    1007  SABEMI SEGURADORA SA                          ...   \n",
       "1   200708    1619  DAYPREV VIDA E PREVIDÊNCIA S.A.               ...   \n",
       "2   201001    2062  LUIZASEG SEGUROS S/A                          ...   \n",
       "3   200602    2143  ASSURANT SEGURADORA SA                        ...   \n",
       "4   200709    2895  Alfa Previdência e Vida S.A.                  ...   \n",
       "\n",
       "   cogrupo                                   nogrupo  \n",
       "0   1225.0  INDEPENDENTE                              \n",
       "1  99999.0  OUTROS GRUPOS                             \n",
       "2   1203.0  CARDIF                                    \n",
       "3   1225.0  INDEPENDENTE                              \n",
       "4   1192.0  ALFA                                      "
      ]
     },
     "execution_count": 11,
     "metadata": {},
     "output_type": "execute_result"
    }
   ],
   "source": [
    "seguradoras.head()"
   ]
  },
  {
   "cell_type": "code",
   "execution_count": 12,
   "metadata": {
    "ExecuteTime": {
     "end_time": "2023-08-25T14:43:51.039145Z",
     "start_time": "2023-08-25T14:43:51.035062Z"
    }
   },
   "outputs": [
    {
     "data": {
      "text/plain": [
       "57772"
      ]
     },
     "execution_count": 12,
     "metadata": {},
     "output_type": "execute_result"
    }
   ],
   "source": [
    "len(seguradoras)"
   ]
  },
  {
   "cell_type": "code",
   "execution_count": 13,
   "metadata": {
    "ExecuteTime": {
     "end_time": "2023-08-25T14:43:51.119793Z",
     "start_time": "2023-08-25T14:43:51.040865Z"
    }
   },
   "outputs": [
    {
     "data": {
      "text/html": [
       "<div>\n",
       "<style scoped>\n",
       "    .dataframe tbody tr th:only-of-type {\n",
       "        vertical-align: middle;\n",
       "    }\n",
       "\n",
       "    .dataframe tbody tr th {\n",
       "        vertical-align: top;\n",
       "    }\n",
       "\n",
       "    .dataframe thead th {\n",
       "        text-align: right;\n",
       "    }\n",
       "</style>\n",
       "<table border=\"1\" class=\"dataframe\">\n",
       "  <thead>\n",
       "    <tr style=\"text-align: right;\">\n",
       "      <th></th>\n",
       "      <th>damesano</th>\n",
       "      <th>coenti</th>\n",
       "      <th>noenti</th>\n",
       "      <th>cogrupo</th>\n",
       "      <th>nogrupo</th>\n",
       "    </tr>\n",
       "  </thead>\n",
       "  <tbody>\n",
       "    <tr>\n",
       "      <th>10006</th>\n",
       "      <td>202209</td>\n",
       "      <td>76767</td>\n",
       "      <td>ALPER RE CORRETORA DE RESSEGUROS LTDA         ...</td>\n",
       "      <td>99999.0</td>\n",
       "      <td>OUTROS GRUPOS</td>\n",
       "    </tr>\n",
       "    <tr>\n",
       "      <th>11637</th>\n",
       "      <td>202208</td>\n",
       "      <td>76767</td>\n",
       "      <td>ALPER RE CORRETORA DE RESSEGUROS LTDA         ...</td>\n",
       "      <td>99999.0</td>\n",
       "      <td>OUTROS GRUPOS</td>\n",
       "    </tr>\n",
       "    <tr>\n",
       "      <th>12784</th>\n",
       "      <td>202302</td>\n",
       "      <td>76767</td>\n",
       "      <td>ALPER RE CORRETORA DE RESSEGUROS LTDA         ...</td>\n",
       "      <td>99999.0</td>\n",
       "      <td>OUTROS GRUPOS</td>\n",
       "    </tr>\n",
       "    <tr>\n",
       "      <th>13888</th>\n",
       "      <td>202306</td>\n",
       "      <td>76767</td>\n",
       "      <td>ALPER RE CORRETORA DE RESSEGUROS LTDA         ...</td>\n",
       "      <td>99999.0</td>\n",
       "      <td>OUTROS GRUPOS</td>\n",
       "    </tr>\n",
       "    <tr>\n",
       "      <th>44101</th>\n",
       "      <td>202305</td>\n",
       "      <td>76767</td>\n",
       "      <td>ALPER RE CORRETORA DE RESSEGUROS LTDA         ...</td>\n",
       "      <td>99999.0</td>\n",
       "      <td>OUTROS GRUPOS</td>\n",
       "    </tr>\n",
       "    <tr>\n",
       "      <th>47004</th>\n",
       "      <td>202207</td>\n",
       "      <td>76767</td>\n",
       "      <td>ALPER RE CORRETORA DE RESSEGUROS LTDA         ...</td>\n",
       "      <td>99999.0</td>\n",
       "      <td>OUTROS GRUPOS</td>\n",
       "    </tr>\n",
       "    <tr>\n",
       "      <th>47086</th>\n",
       "      <td>202303</td>\n",
       "      <td>76767</td>\n",
       "      <td>ALPER RE CORRETORA DE RESSEGUROS LTDA         ...</td>\n",
       "      <td>99999.0</td>\n",
       "      <td>OUTROS GRUPOS</td>\n",
       "    </tr>\n",
       "    <tr>\n",
       "      <th>54887</th>\n",
       "      <td>202304</td>\n",
       "      <td>76767</td>\n",
       "      <td>ALPER RE CORRETORA DE RESSEGUROS LTDA         ...</td>\n",
       "      <td>99999.0</td>\n",
       "      <td>OUTROS GRUPOS</td>\n",
       "    </tr>\n",
       "    <tr>\n",
       "      <th>56313</th>\n",
       "      <td>202301</td>\n",
       "      <td>76767</td>\n",
       "      <td>ALPER RE CORRETORA DE RESSEGUROS LTDA         ...</td>\n",
       "      <td>99999.0</td>\n",
       "      <td>OUTROS GRUPOS</td>\n",
       "    </tr>\n",
       "    <tr>\n",
       "      <th>56417</th>\n",
       "      <td>202211</td>\n",
       "      <td>76767</td>\n",
       "      <td>ALPER RE CORRETORA DE RESSEGUROS LTDA         ...</td>\n",
       "      <td>99999.0</td>\n",
       "      <td>OUTROS GRUPOS</td>\n",
       "    </tr>\n",
       "    <tr>\n",
       "      <th>56658</th>\n",
       "      <td>202212</td>\n",
       "      <td>76767</td>\n",
       "      <td>ALPER RE CORRETORA DE RESSEGUROS LTDA         ...</td>\n",
       "      <td>99999.0</td>\n",
       "      <td>OUTROS GRUPOS</td>\n",
       "    </tr>\n",
       "    <tr>\n",
       "      <th>57128</th>\n",
       "      <td>202112</td>\n",
       "      <td>76767</td>\n",
       "      <td>Alper Re Corretora de Resseguros Ltda         ...</td>\n",
       "      <td>99999.0</td>\n",
       "      <td>OUTROS GRUPOS</td>\n",
       "    </tr>\n",
       "    <tr>\n",
       "      <th>57129</th>\n",
       "      <td>202201</td>\n",
       "      <td>76767</td>\n",
       "      <td>Alper Re Corretora de Resseguros Ltda         ...</td>\n",
       "      <td>99999.0</td>\n",
       "      <td>OUTROS GRUPOS</td>\n",
       "    </tr>\n",
       "    <tr>\n",
       "      <th>57130</th>\n",
       "      <td>202202</td>\n",
       "      <td>76767</td>\n",
       "      <td>Alper Re Corretora de Resseguros Ltda         ...</td>\n",
       "      <td>99999.0</td>\n",
       "      <td>OUTROS GRUPOS</td>\n",
       "    </tr>\n",
       "    <tr>\n",
       "      <th>57383</th>\n",
       "      <td>202210</td>\n",
       "      <td>76767</td>\n",
       "      <td>ALPER RE CORRETORA DE RESSEGUROS LTDA         ...</td>\n",
       "      <td>99999.0</td>\n",
       "      <td>OUTROS GRUPOS</td>\n",
       "    </tr>\n",
       "    <tr>\n",
       "      <th>57584</th>\n",
       "      <td>202203</td>\n",
       "      <td>76767</td>\n",
       "      <td>ALPER RE CORRETORA DE RESSEGUROS LTDA         ...</td>\n",
       "      <td>99999.0</td>\n",
       "      <td>OUTROS GRUPOS</td>\n",
       "    </tr>\n",
       "    <tr>\n",
       "      <th>57585</th>\n",
       "      <td>202204</td>\n",
       "      <td>76767</td>\n",
       "      <td>ALPER RE CORRETORA DE RESSEGUROS LTDA         ...</td>\n",
       "      <td>99999.0</td>\n",
       "      <td>OUTROS GRUPOS</td>\n",
       "    </tr>\n",
       "    <tr>\n",
       "      <th>57586</th>\n",
       "      <td>202205</td>\n",
       "      <td>76767</td>\n",
       "      <td>ALPER RE CORRETORA DE RESSEGUROS LTDA         ...</td>\n",
       "      <td>99999.0</td>\n",
       "      <td>OUTROS GRUPOS</td>\n",
       "    </tr>\n",
       "    <tr>\n",
       "      <th>57753</th>\n",
       "      <td>202206</td>\n",
       "      <td>76767</td>\n",
       "      <td>ALPER RE CORRETORA DE RESSEGUROS LTDA         ...</td>\n",
       "      <td>99999.0</td>\n",
       "      <td>OUTROS GRUPOS</td>\n",
       "    </tr>\n",
       "  </tbody>\n",
       "</table>\n",
       "</div>"
      ],
      "text/plain": [
       "      damesano  coenti                                             noenti  \\\n",
       "10006   202209   76767  ALPER RE CORRETORA DE RESSEGUROS LTDA         ...   \n",
       "11637   202208   76767  ALPER RE CORRETORA DE RESSEGUROS LTDA         ...   \n",
       "12784   202302   76767  ALPER RE CORRETORA DE RESSEGUROS LTDA         ...   \n",
       "13888   202306   76767  ALPER RE CORRETORA DE RESSEGUROS LTDA         ...   \n",
       "44101   202305   76767  ALPER RE CORRETORA DE RESSEGUROS LTDA         ...   \n",
       "47004   202207   76767  ALPER RE CORRETORA DE RESSEGUROS LTDA         ...   \n",
       "47086   202303   76767  ALPER RE CORRETORA DE RESSEGUROS LTDA         ...   \n",
       "54887   202304   76767  ALPER RE CORRETORA DE RESSEGUROS LTDA         ...   \n",
       "56313   202301   76767  ALPER RE CORRETORA DE RESSEGUROS LTDA         ...   \n",
       "56417   202211   76767  ALPER RE CORRETORA DE RESSEGUROS LTDA         ...   \n",
       "56658   202212   76767  ALPER RE CORRETORA DE RESSEGUROS LTDA         ...   \n",
       "57128   202112   76767  Alper Re Corretora de Resseguros Ltda         ...   \n",
       "57129   202201   76767  Alper Re Corretora de Resseguros Ltda         ...   \n",
       "57130   202202   76767  Alper Re Corretora de Resseguros Ltda         ...   \n",
       "57383   202210   76767  ALPER RE CORRETORA DE RESSEGUROS LTDA         ...   \n",
       "57584   202203   76767  ALPER RE CORRETORA DE RESSEGUROS LTDA         ...   \n",
       "57585   202204   76767  ALPER RE CORRETORA DE RESSEGUROS LTDA         ...   \n",
       "57586   202205   76767  ALPER RE CORRETORA DE RESSEGUROS LTDA         ...   \n",
       "57753   202206   76767  ALPER RE CORRETORA DE RESSEGUROS LTDA         ...   \n",
       "\n",
       "       cogrupo                                   nogrupo  \n",
       "10006  99999.0  OUTROS GRUPOS                             \n",
       "11637  99999.0  OUTROS GRUPOS                             \n",
       "12784  99999.0  OUTROS GRUPOS                             \n",
       "13888  99999.0  OUTROS GRUPOS                             \n",
       "44101  99999.0  OUTROS GRUPOS                             \n",
       "47004  99999.0  OUTROS GRUPOS                             \n",
       "47086  99999.0  OUTROS GRUPOS                             \n",
       "54887  99999.0  OUTROS GRUPOS                             \n",
       "56313  99999.0  OUTROS GRUPOS                             \n",
       "56417  99999.0  OUTROS GRUPOS                             \n",
       "56658  99999.0  OUTROS GRUPOS                             \n",
       "57128  99999.0  OUTROS GRUPOS                             \n",
       "57129  99999.0  OUTROS GRUPOS                             \n",
       "57130  99999.0  OUTROS GRUPOS                             \n",
       "57383  99999.0  OUTROS GRUPOS                             \n",
       "57584  99999.0  OUTROS GRUPOS                             \n",
       "57585  99999.0  OUTROS GRUPOS                             \n",
       "57586  99999.0  OUTROS GRUPOS                             \n",
       "57753  99999.0  OUTROS GRUPOS                             "
      ]
     },
     "execution_count": 13,
     "metadata": {},
     "output_type": "execute_result"
    }
   ],
   "source": [
    "seguradoras[seguradoras['noenti'].str.contains('Alper', case=False)]"
   ]
  },
  {
   "cell_type": "markdown",
   "metadata": {},
   "source": [
    "# Criando planilha com dados dos últimos 5 anos"
   ]
  },
  {
   "cell_type": "code",
   "execution_count": 14,
   "metadata": {
    "ExecuteTime": {
     "end_time": "2023-08-25T14:43:51.156729Z",
     "start_time": "2023-08-25T14:43:51.120856Z"
    }
   },
   "outputs": [
    {
     "data": {
      "text/plain": [
       "54301                                   \n",
       "17706                                   \n",
       "17389                                   \n",
       "21208                             199905\n",
       "22150                             199905\n",
       "                      ...               \n",
       "13858                             202306\n",
       "13859                             202306\n",
       "13860                             202306\n",
       "13852                             202306\n",
       "14015                             202306\n",
       "Name: damesano, Length: 57772, dtype: object"
      ]
     },
     "execution_count": 14,
     "metadata": {},
     "output_type": "execute_result"
    }
   ],
   "source": [
    "seguradoras['damesano'].sort_values()"
   ]
  },
  {
   "cell_type": "code",
   "execution_count": 92,
   "metadata": {
    "ExecuteTime": {
     "end_time": "2023-08-25T16:02:21.551866Z",
     "start_time": "2023-08-25T16:02:21.459468Z"
    }
   },
   "outputs": [],
   "source": [
    "seguros_5_anos = seguros[seguros['damesano'] >= 201801]"
   ]
  },
  {
   "cell_type": "code",
   "execution_count": 93,
   "metadata": {
    "ExecuteTime": {
     "end_time": "2023-08-25T16:02:21.727700Z",
     "start_time": "2023-08-25T16:02:21.553507Z"
    }
   },
   "outputs": [
    {
     "data": {
      "text/html": [
       "<div>\n",
       "<style scoped>\n",
       "    .dataframe tbody tr th:only-of-type {\n",
       "        vertical-align: middle;\n",
       "    }\n",
       "\n",
       "    .dataframe tbody tr th {\n",
       "        vertical-align: top;\n",
       "    }\n",
       "\n",
       "    .dataframe thead th {\n",
       "        text-align: right;\n",
       "    }\n",
       "</style>\n",
       "<table border=\"1\" class=\"dataframe\">\n",
       "  <thead>\n",
       "    <tr style=\"text-align: right;\">\n",
       "      <th></th>\n",
       "      <th>damesano</th>\n",
       "      <th>coenti</th>\n",
       "      <th>cogrupo</th>\n",
       "      <th>coramo</th>\n",
       "      <th>premio_direto</th>\n",
       "      <th>premio_de_seguros</th>\n",
       "      <th>premio_retido</th>\n",
       "      <th>premio_ganho</th>\n",
       "      <th>sinistro_direto</th>\n",
       "      <th>sinistro_retido</th>\n",
       "      <th>...</th>\n",
       "      <th>premio_emitido2</th>\n",
       "      <th>premio_emitido_cap</th>\n",
       "      <th>despesa_resseguros</th>\n",
       "      <th>sinistro_ocorrido</th>\n",
       "      <th>receita_resseguro</th>\n",
       "      <th>sinistros_ocorridos_cap</th>\n",
       "      <th>recuperacao_sinistros_ocorridos_cap</th>\n",
       "      <th>rvne</th>\n",
       "      <th>conveniodpvat</th>\n",
       "      <th>consorciosefundos</th>\n",
       "    </tr>\n",
       "  </thead>\n",
       "  <tbody>\n",
       "    <tr>\n",
       "      <th>481</th>\n",
       "      <td>201802</td>\n",
       "      <td>1007</td>\n",
       "      <td>1225</td>\n",
       "      <td>111.0</td>\n",
       "      <td>0</td>\n",
       "      <td>0</td>\n",
       "      <td>0</td>\n",
       "      <td>0</td>\n",
       "      <td>0</td>\n",
       "      <td>0</td>\n",
       "      <td>...</td>\n",
       "      <td>0</td>\n",
       "      <td>0</td>\n",
       "      <td>0</td>\n",
       "      <td>0</td>\n",
       "      <td>0</td>\n",
       "      <td>0</td>\n",
       "      <td>0</td>\n",
       "      <td>0</td>\n",
       "      <td>0</td>\n",
       "      <td>0</td>\n",
       "    </tr>\n",
       "    <tr>\n",
       "      <th>482</th>\n",
       "      <td>201802</td>\n",
       "      <td>1007</td>\n",
       "      <td>1225</td>\n",
       "      <td>115.0</td>\n",
       "      <td>0</td>\n",
       "      <td>0</td>\n",
       "      <td>0</td>\n",
       "      <td>0</td>\n",
       "      <td>0</td>\n",
       "      <td>0</td>\n",
       "      <td>...</td>\n",
       "      <td>0</td>\n",
       "      <td>0</td>\n",
       "      <td>0</td>\n",
       "      <td>0</td>\n",
       "      <td>0</td>\n",
       "      <td>0</td>\n",
       "      <td>0</td>\n",
       "      <td>0</td>\n",
       "      <td>0</td>\n",
       "      <td>0</td>\n",
       "    </tr>\n",
       "    <tr>\n",
       "      <th>483</th>\n",
       "      <td>201802</td>\n",
       "      <td>1007</td>\n",
       "      <td>1225</td>\n",
       "      <td>141.0</td>\n",
       "      <td>0</td>\n",
       "      <td>0</td>\n",
       "      <td>0</td>\n",
       "      <td>0</td>\n",
       "      <td>0</td>\n",
       "      <td>0</td>\n",
       "      <td>...</td>\n",
       "      <td>0</td>\n",
       "      <td>0</td>\n",
       "      <td>0</td>\n",
       "      <td>0</td>\n",
       "      <td>0</td>\n",
       "      <td>0</td>\n",
       "      <td>0</td>\n",
       "      <td>0</td>\n",
       "      <td>0</td>\n",
       "      <td>0</td>\n",
       "    </tr>\n",
       "    <tr>\n",
       "      <th>484</th>\n",
       "      <td>201802</td>\n",
       "      <td>1007</td>\n",
       "      <td>1225</td>\n",
       "      <td>167.0</td>\n",
       "      <td>0</td>\n",
       "      <td>0</td>\n",
       "      <td>0</td>\n",
       "      <td>0</td>\n",
       "      <td>0</td>\n",
       "      <td>0</td>\n",
       "      <td>...</td>\n",
       "      <td>0</td>\n",
       "      <td>0</td>\n",
       "      <td>0</td>\n",
       "      <td>0</td>\n",
       "      <td>0</td>\n",
       "      <td>0</td>\n",
       "      <td>0</td>\n",
       "      <td>0</td>\n",
       "      <td>0</td>\n",
       "      <td>0</td>\n",
       "    </tr>\n",
       "    <tr>\n",
       "      <th>485</th>\n",
       "      <td>201802</td>\n",
       "      <td>1007</td>\n",
       "      <td>1225</td>\n",
       "      <td>171.0</td>\n",
       "      <td>0</td>\n",
       "      <td>0</td>\n",
       "      <td>0</td>\n",
       "      <td>0</td>\n",
       "      <td>0</td>\n",
       "      <td>0</td>\n",
       "      <td>...</td>\n",
       "      <td>0</td>\n",
       "      <td>0</td>\n",
       "      <td>0</td>\n",
       "      <td>0</td>\n",
       "      <td>0</td>\n",
       "      <td>0</td>\n",
       "      <td>0</td>\n",
       "      <td>0</td>\n",
       "      <td>0</td>\n",
       "      <td>0</td>\n",
       "    </tr>\n",
       "    <tr>\n",
       "      <th>...</th>\n",
       "      <td>...</td>\n",
       "      <td>...</td>\n",
       "      <td>...</td>\n",
       "      <td>...</td>\n",
       "      <td>...</td>\n",
       "      <td>...</td>\n",
       "      <td>...</td>\n",
       "      <td>...</td>\n",
       "      <td>...</td>\n",
       "      <td>...</td>\n",
       "      <td>...</td>\n",
       "      <td>...</td>\n",
       "      <td>...</td>\n",
       "      <td>...</td>\n",
       "      <td>...</td>\n",
       "      <td>...</td>\n",
       "      <td>...</td>\n",
       "      <td>...</td>\n",
       "      <td>...</td>\n",
       "      <td>...</td>\n",
       "      <td>...</td>\n",
       "    </tr>\n",
       "    <tr>\n",
       "      <th>1611292</th>\n",
       "      <td>202211</td>\n",
       "      <td>9938</td>\n",
       "      <td>345</td>\n",
       "      <td>994.0</td>\n",
       "      <td>0</td>\n",
       "      <td>0</td>\n",
       "      <td>0</td>\n",
       "      <td>0</td>\n",
       "      <td>0</td>\n",
       "      <td>0</td>\n",
       "      <td>...</td>\n",
       "      <td>0</td>\n",
       "      <td>51223,88</td>\n",
       "      <td>0</td>\n",
       "      <td>0</td>\n",
       "      <td>0</td>\n",
       "      <td>0</td>\n",
       "      <td>0</td>\n",
       "      <td>0</td>\n",
       "      <td>0</td>\n",
       "      <td>0</td>\n",
       "    </tr>\n",
       "    <tr>\n",
       "      <th>1611293</th>\n",
       "      <td>202211</td>\n",
       "      <td>9938</td>\n",
       "      <td>345</td>\n",
       "      <td>1198.0</td>\n",
       "      <td>0</td>\n",
       "      <td>-80980</td>\n",
       "      <td>0</td>\n",
       "      <td>18614,27</td>\n",
       "      <td>0</td>\n",
       "      <td>0</td>\n",
       "      <td>...</td>\n",
       "      <td>-80980</td>\n",
       "      <td>0</td>\n",
       "      <td>623,78</td>\n",
       "      <td>-3156</td>\n",
       "      <td>-80</td>\n",
       "      <td>0</td>\n",
       "      <td>0</td>\n",
       "      <td>-80980</td>\n",
       "      <td>0</td>\n",
       "      <td>0</td>\n",
       "    </tr>\n",
       "    <tr>\n",
       "      <th>1611294</th>\n",
       "      <td>202211</td>\n",
       "      <td>9938</td>\n",
       "      <td>345</td>\n",
       "      <td>1381.0</td>\n",
       "      <td>0</td>\n",
       "      <td>0</td>\n",
       "      <td>0</td>\n",
       "      <td>0</td>\n",
       "      <td>0</td>\n",
       "      <td>0</td>\n",
       "      <td>...</td>\n",
       "      <td>0</td>\n",
       "      <td>0</td>\n",
       "      <td>0</td>\n",
       "      <td>0</td>\n",
       "      <td>0</td>\n",
       "      <td>0</td>\n",
       "      <td>0</td>\n",
       "      <td>0</td>\n",
       "      <td>0</td>\n",
       "      <td>0</td>\n",
       "    </tr>\n",
       "    <tr>\n",
       "      <th>1611295</th>\n",
       "      <td>202211</td>\n",
       "      <td>9938</td>\n",
       "      <td>345</td>\n",
       "      <td>1383.0</td>\n",
       "      <td>0</td>\n",
       "      <td>0</td>\n",
       "      <td>0</td>\n",
       "      <td>0</td>\n",
       "      <td>0</td>\n",
       "      <td>0</td>\n",
       "      <td>...</td>\n",
       "      <td>0</td>\n",
       "      <td>0</td>\n",
       "      <td>0</td>\n",
       "      <td>0</td>\n",
       "      <td>0</td>\n",
       "      <td>0</td>\n",
       "      <td>0</td>\n",
       "      <td>0</td>\n",
       "      <td>0</td>\n",
       "      <td>0</td>\n",
       "    </tr>\n",
       "    <tr>\n",
       "      <th>1611296</th>\n",
       "      <td>202211</td>\n",
       "      <td>9938</td>\n",
       "      <td>345</td>\n",
       "      <td>1392.0</td>\n",
       "      <td>0</td>\n",
       "      <td>0</td>\n",
       "      <td>0</td>\n",
       "      <td>0</td>\n",
       "      <td>0</td>\n",
       "      <td>0</td>\n",
       "      <td>...</td>\n",
       "      <td>0</td>\n",
       "      <td>69624526,23</td>\n",
       "      <td>0</td>\n",
       "      <td>0</td>\n",
       "      <td>0</td>\n",
       "      <td>0</td>\n",
       "      <td>0</td>\n",
       "      <td>0</td>\n",
       "      <td>0</td>\n",
       "      <td>0</td>\n",
       "    </tr>\n",
       "  </tbody>\n",
       "</table>\n",
       "<p>335646 rows × 21 columns</p>\n",
       "</div>"
      ],
      "text/plain": [
       "         damesano  coenti  cogrupo  coramo premio_direto premio_de_seguros  \\\n",
       "481        201802    1007     1225   111.0             0                 0   \n",
       "482        201802    1007     1225   115.0             0                 0   \n",
       "483        201802    1007     1225   141.0             0                 0   \n",
       "484        201802    1007     1225   167.0             0                 0   \n",
       "485        201802    1007     1225   171.0             0                 0   \n",
       "...           ...     ...      ...     ...           ...               ...   \n",
       "1611292    202211    9938      345   994.0             0                 0   \n",
       "1611293    202211    9938      345  1198.0             0            -80980   \n",
       "1611294    202211    9938      345  1381.0             0                 0   \n",
       "1611295    202211    9938      345  1383.0             0                 0   \n",
       "1611296    202211    9938      345  1392.0             0                 0   \n",
       "\n",
       "        premio_retido premio_ganho sinistro_direto sinistro_retido  ...  \\\n",
       "481                 0            0               0               0  ...   \n",
       "482                 0            0               0               0  ...   \n",
       "483                 0            0               0               0  ...   \n",
       "484                 0            0               0               0  ...   \n",
       "485                 0            0               0               0  ...   \n",
       "...               ...          ...             ...             ...  ...   \n",
       "1611292             0            0               0               0  ...   \n",
       "1611293             0     18614,27               0               0  ...   \n",
       "1611294             0            0               0               0  ...   \n",
       "1611295             0            0               0               0  ...   \n",
       "1611296             0            0               0               0  ...   \n",
       "\n",
       "        premio_emitido2 premio_emitido_cap despesa_resseguros  \\\n",
       "481                   0                  0                  0   \n",
       "482                   0                  0                  0   \n",
       "483                   0                  0                  0   \n",
       "484                   0                  0                  0   \n",
       "485                   0                  0                  0   \n",
       "...                 ...                ...                ...   \n",
       "1611292               0           51223,88                  0   \n",
       "1611293          -80980                  0             623,78   \n",
       "1611294               0                  0                  0   \n",
       "1611295               0                  0                  0   \n",
       "1611296               0        69624526,23                  0   \n",
       "\n",
       "        sinistro_ocorrido receita_resseguro sinistros_ocorridos_cap  \\\n",
       "481                     0                 0                       0   \n",
       "482                     0                 0                       0   \n",
       "483                     0                 0                       0   \n",
       "484                     0                 0                       0   \n",
       "485                     0                 0                       0   \n",
       "...                   ...               ...                     ...   \n",
       "1611292                 0                 0                       0   \n",
       "1611293             -3156               -80                       0   \n",
       "1611294                 0                 0                       0   \n",
       "1611295                 0                 0                       0   \n",
       "1611296                 0                 0                       0   \n",
       "\n",
       "        recuperacao_sinistros_ocorridos_cap    rvne conveniodpvat  \\\n",
       "481                                       0       0             0   \n",
       "482                                       0       0             0   \n",
       "483                                       0       0             0   \n",
       "484                                       0       0             0   \n",
       "485                                       0       0             0   \n",
       "...                                     ...     ...           ...   \n",
       "1611292                                   0       0             0   \n",
       "1611293                                   0  -80980             0   \n",
       "1611294                                   0       0             0   \n",
       "1611295                                   0       0             0   \n",
       "1611296                                   0       0             0   \n",
       "\n",
       "        consorciosefundos  \n",
       "481                     0  \n",
       "482                     0  \n",
       "483                     0  \n",
       "484                     0  \n",
       "485                     0  \n",
       "...                   ...  \n",
       "1611292                 0  \n",
       "1611293                 0  \n",
       "1611294                 0  \n",
       "1611295                 0  \n",
       "1611296                 0  \n",
       "\n",
       "[335646 rows x 21 columns]"
      ]
     },
     "execution_count": 93,
     "metadata": {},
     "output_type": "execute_result"
    }
   ],
   "source": [
    "seguros_5_anos"
   ]
  },
  {
   "cell_type": "markdown",
   "metadata": {},
   "source": [
    "# Selecionando Colunas apenas de Seguros"
   ]
  },
  {
   "cell_type": "code",
   "execution_count": 94,
   "metadata": {
    "ExecuteTime": {
     "end_time": "2023-08-25T16:02:21.751393Z",
     "start_time": "2023-08-25T16:02:21.728716Z"
    },
    "cell_style": "center"
   },
   "outputs": [],
   "source": [
    "colunas_seguros = ['damesano', 'coenti', 'cogrupo', 'coramo', 'premio_direto',\n",
    "       'premio_de_seguros', 'premio_retido', 'premio_ganho', 'sinistro_direto',\n",
    "       'sinistro_retido', 'desp_com', 'premio_emitido2', 'sinistro_ocorrido',\n",
    "       'rvne', 'conveniodpvat']\n",
    "\n",
    "seguros_5_anos_filtrado = seguros_5_anos[colunas_seguros]\n"
   ]
  },
  {
   "cell_type": "markdown",
   "metadata": {
    "ExecuteTime": {
     "end_time": "2023-08-25T14:24:11.764688Z",
     "start_time": "2023-08-25T14:24:11.678076Z"
    },
    "cell_style": "split"
   },
   "source": [
    "- damesano > Ano e mês da informação\n",
    "\n",
    "- coenti > Código da Empresa\n",
    "\n",
    "- cogrupo > Codigo do grupo econômico a que pertence a empresa\n",
    "\n",
    "- coramo > Código do Ramo no FIP\n",
    "\n",
    "- premio_direto > Prêmio Direto (R$)\n",
    "\n",
    "- premio_de_seguros > Prêmio de Seguros (R$)\n",
    "\n",
    "- premio_retido > Prêmio Retido (R$)\n",
    "\n",
    "- premio_ganho > Prêmio Ganho (R$)\n",
    "\n",
    "- sinistro_direto > Sinistro de Seguros (R$)\n",
    "\n",
    "- sinistro_retido > Sinistro Retido (R$)\n",
    "\n",
    "- desp_com > Custo de Aquisição(R$)\n",
    "\n",
    "- premio_emitido2 > Prêmios Emitidos (R$)\n",
    "\n",
    "- premio_emitido_cap > Prêmios Emitidos em Regime de Capitalização (R$)\n",
    "\n",
    "- despesa_resseguros > Despesas com Resseguros (R$)\n",
    "\n",
    "- sinistro_ocorrido > Sinistros Ocorridos (R$)\n",
    "\n",
    "- receita_resseguro > Receitas com Resseguros (R$)\n",
    "\n",
    "- sinistros_ocorridos_cap > Sinistros Ocorridos (Regime de Capitalização e Repartição de Capitais de Cobertura) (R$)\n",
    "\n",
    "- recuperacao_sinistros_ocorridos_cap > Recuperação de Sinistros (Regime de Capitalização e Repartição de Capitais de \n",
    "Cobertura) (R$)\n",
    "\n",
    "- rvne > Prêmios de Riscos Vigentes e Não Emitidos (R$)\n",
    "\n",
    "- conveniodpvat > Prêmios Convênio Dpvat (R$)\n",
    "\n",
    "- consorciosefundos > Prêmios Cedidos a Consórcios e Fundos (R$)"
   ]
  },
  {
   "cell_type": "code",
   "execution_count": 95,
   "metadata": {
    "ExecuteTime": {
     "end_time": "2023-08-25T16:02:21.761035Z",
     "start_time": "2023-08-25T16:02:21.753654Z"
    }
   },
   "outputs": [
    {
     "data": {
      "text/html": [
       "<div>\n",
       "<style scoped>\n",
       "    .dataframe tbody tr th:only-of-type {\n",
       "        vertical-align: middle;\n",
       "    }\n",
       "\n",
       "    .dataframe tbody tr th {\n",
       "        vertical-align: top;\n",
       "    }\n",
       "\n",
       "    .dataframe thead th {\n",
       "        text-align: right;\n",
       "    }\n",
       "</style>\n",
       "<table border=\"1\" class=\"dataframe\">\n",
       "  <thead>\n",
       "    <tr style=\"text-align: right;\">\n",
       "      <th></th>\n",
       "      <th>damesano</th>\n",
       "      <th>coenti</th>\n",
       "      <th>cogrupo</th>\n",
       "      <th>coramo</th>\n",
       "      <th>premio_direto</th>\n",
       "      <th>premio_de_seguros</th>\n",
       "      <th>premio_retido</th>\n",
       "      <th>premio_ganho</th>\n",
       "      <th>sinistro_direto</th>\n",
       "      <th>sinistro_retido</th>\n",
       "      <th>desp_com</th>\n",
       "      <th>premio_emitido2</th>\n",
       "      <th>sinistro_ocorrido</th>\n",
       "      <th>rvne</th>\n",
       "      <th>conveniodpvat</th>\n",
       "    </tr>\n",
       "  </thead>\n",
       "  <tbody>\n",
       "    <tr>\n",
       "      <th>481</th>\n",
       "      <td>201802</td>\n",
       "      <td>1007</td>\n",
       "      <td>1225</td>\n",
       "      <td>111.0</td>\n",
       "      <td>0</td>\n",
       "      <td>0</td>\n",
       "      <td>0</td>\n",
       "      <td>0</td>\n",
       "      <td>0</td>\n",
       "      <td>0</td>\n",
       "      <td>0</td>\n",
       "      <td>0</td>\n",
       "      <td>0</td>\n",
       "      <td>0</td>\n",
       "      <td>0</td>\n",
       "    </tr>\n",
       "    <tr>\n",
       "      <th>482</th>\n",
       "      <td>201802</td>\n",
       "      <td>1007</td>\n",
       "      <td>1225</td>\n",
       "      <td>115.0</td>\n",
       "      <td>0</td>\n",
       "      <td>0</td>\n",
       "      <td>0</td>\n",
       "      <td>0</td>\n",
       "      <td>0</td>\n",
       "      <td>0</td>\n",
       "      <td>0</td>\n",
       "      <td>0</td>\n",
       "      <td>0</td>\n",
       "      <td>0</td>\n",
       "      <td>0</td>\n",
       "    </tr>\n",
       "    <tr>\n",
       "      <th>483</th>\n",
       "      <td>201802</td>\n",
       "      <td>1007</td>\n",
       "      <td>1225</td>\n",
       "      <td>141.0</td>\n",
       "      <td>0</td>\n",
       "      <td>0</td>\n",
       "      <td>0</td>\n",
       "      <td>0</td>\n",
       "      <td>0</td>\n",
       "      <td>0</td>\n",
       "      <td>0</td>\n",
       "      <td>0</td>\n",
       "      <td>0</td>\n",
       "      <td>0</td>\n",
       "      <td>0</td>\n",
       "    </tr>\n",
       "    <tr>\n",
       "      <th>484</th>\n",
       "      <td>201802</td>\n",
       "      <td>1007</td>\n",
       "      <td>1225</td>\n",
       "      <td>167.0</td>\n",
       "      <td>0</td>\n",
       "      <td>0</td>\n",
       "      <td>0</td>\n",
       "      <td>0</td>\n",
       "      <td>0</td>\n",
       "      <td>0</td>\n",
       "      <td>0</td>\n",
       "      <td>0</td>\n",
       "      <td>0</td>\n",
       "      <td>0</td>\n",
       "      <td>0</td>\n",
       "    </tr>\n",
       "    <tr>\n",
       "      <th>485</th>\n",
       "      <td>201802</td>\n",
       "      <td>1007</td>\n",
       "      <td>1225</td>\n",
       "      <td>171.0</td>\n",
       "      <td>0</td>\n",
       "      <td>0</td>\n",
       "      <td>0</td>\n",
       "      <td>0</td>\n",
       "      <td>0</td>\n",
       "      <td>0</td>\n",
       "      <td>0</td>\n",
       "      <td>0</td>\n",
       "      <td>0</td>\n",
       "      <td>0</td>\n",
       "      <td>0</td>\n",
       "    </tr>\n",
       "  </tbody>\n",
       "</table>\n",
       "</div>"
      ],
      "text/plain": [
       "     damesano  coenti  cogrupo  coramo premio_direto premio_de_seguros  \\\n",
       "481    201802    1007     1225   111.0             0                 0   \n",
       "482    201802    1007     1225   115.0             0                 0   \n",
       "483    201802    1007     1225   141.0             0                 0   \n",
       "484    201802    1007     1225   167.0             0                 0   \n",
       "485    201802    1007     1225   171.0             0                 0   \n",
       "\n",
       "    premio_retido premio_ganho sinistro_direto sinistro_retido desp_com  \\\n",
       "481             0            0               0               0        0   \n",
       "482             0            0               0               0        0   \n",
       "483             0            0               0               0        0   \n",
       "484             0            0               0               0        0   \n",
       "485             0            0               0               0        0   \n",
       "\n",
       "    premio_emitido2 sinistro_ocorrido rvne conveniodpvat  \n",
       "481               0                 0    0             0  \n",
       "482               0                 0    0             0  \n",
       "483               0                 0    0             0  \n",
       "484               0                 0    0             0  \n",
       "485               0                 0    0             0  "
      ]
     },
     "execution_count": 95,
     "metadata": {},
     "output_type": "execute_result"
    }
   ],
   "source": [
    "seguros_5_anos_filtrado.head()"
   ]
  },
  {
   "cell_type": "markdown",
   "metadata": {},
   "source": [
    "# Dados sobre Alper"
   ]
  },
  {
   "cell_type": "code",
   "execution_count": 96,
   "metadata": {
    "ExecuteTime": {
     "end_time": "2023-08-25T16:02:21.765890Z",
     "start_time": "2023-08-25T16:02:21.762184Z"
    }
   },
   "outputs": [
    {
     "data": {
      "text/plain": [
       "0"
      ]
     },
     "execution_count": 96,
     "metadata": {},
     "output_type": "execute_result"
    }
   ],
   "source": [
    "(seguros_5_anos_filtrado['coenti'] == 76767).sum()"
   ]
  },
  {
   "cell_type": "code",
   "execution_count": 97,
   "metadata": {
    "ExecuteTime": {
     "end_time": "2023-08-25T16:02:21.776066Z",
     "start_time": "2023-08-25T16:02:21.766970Z"
    }
   },
   "outputs": [
    {
     "data": {
      "text/html": [
       "<div>\n",
       "<style scoped>\n",
       "    .dataframe tbody tr th:only-of-type {\n",
       "        vertical-align: middle;\n",
       "    }\n",
       "\n",
       "    .dataframe tbody tr th {\n",
       "        vertical-align: top;\n",
       "    }\n",
       "\n",
       "    .dataframe thead th {\n",
       "        text-align: right;\n",
       "    }\n",
       "</style>\n",
       "<table border=\"1\" class=\"dataframe\">\n",
       "  <thead>\n",
       "    <tr style=\"text-align: right;\">\n",
       "      <th></th>\n",
       "      <th>damesano</th>\n",
       "      <th>coenti</th>\n",
       "      <th>cogrupo</th>\n",
       "      <th>coramo</th>\n",
       "      <th>premio_direto</th>\n",
       "      <th>premio_de_seguros</th>\n",
       "      <th>premio_retido</th>\n",
       "      <th>premio_ganho</th>\n",
       "      <th>sinistro_direto</th>\n",
       "      <th>sinistro_retido</th>\n",
       "      <th>...</th>\n",
       "      <th>premio_emitido2</th>\n",
       "      <th>premio_emitido_cap</th>\n",
       "      <th>despesa_resseguros</th>\n",
       "      <th>sinistro_ocorrido</th>\n",
       "      <th>receita_resseguro</th>\n",
       "      <th>sinistros_ocorridos_cap</th>\n",
       "      <th>recuperacao_sinistros_ocorridos_cap</th>\n",
       "      <th>rvne</th>\n",
       "      <th>conveniodpvat</th>\n",
       "      <th>consorciosefundos</th>\n",
       "    </tr>\n",
       "  </thead>\n",
       "  <tbody>\n",
       "  </tbody>\n",
       "</table>\n",
       "<p>0 rows × 21 columns</p>\n",
       "</div>"
      ],
      "text/plain": [
       "Empty DataFrame\n",
       "Columns: [damesano, coenti, cogrupo, coramo, premio_direto, premio_de_seguros, premio_retido, premio_ganho, sinistro_direto, sinistro_retido, desp_com, premio_emitido2, premio_emitido_cap, despesa_resseguros, sinistro_ocorrido, receita_resseguro, sinistros_ocorridos_cap, recuperacao_sinistros_ocorridos_cap, rvne, conveniodpvat, consorciosefundos]\n",
       "Index: []\n",
       "\n",
       "[0 rows x 21 columns]"
      ]
     },
     "execution_count": 97,
     "metadata": {},
     "output_type": "execute_result"
    }
   ],
   "source": [
    "seguros[seguros['coenti'] == 76767]"
   ]
  },
  {
   "cell_type": "markdown",
   "metadata": {},
   "source": [
    "# Estruturação Colunas"
   ]
  },
  {
   "cell_type": "code",
   "execution_count": 98,
   "metadata": {
    "ExecuteTime": {
     "end_time": "2023-08-25T16:02:22.099233Z",
     "start_time": "2023-08-25T16:02:21.777199Z"
    },
    "scrolled": true
   },
   "outputs": [
    {
     "name": "stderr",
     "output_type": "stream",
     "text": [
      "/var/folders/39/b_95705d30x7x38r03qf35500000gn/T/ipykernel_36974/2642529691.py:1: SettingWithCopyWarning: \n",
      "A value is trying to be set on a copy of a slice from a DataFrame.\n",
      "Try using .loc[row_indexer,col_indexer] = value instead\n",
      "\n",
      "See the caveats in the documentation: https://pandas.pydata.org/pandas-docs/stable/user_guide/indexing.html#returning-a-view-versus-a-copy\n",
      "  seguros_5_anos_filtrado['Mês'] = seguros_5_anos_filtrado['damesano'].astype(str).str[-2:]\n",
      "/var/folders/39/b_95705d30x7x38r03qf35500000gn/T/ipykernel_36974/2642529691.py:3: SettingWithCopyWarning: \n",
      "A value is trying to be set on a copy of a slice from a DataFrame.\n",
      "Try using .loc[row_indexer,col_indexer] = value instead\n",
      "\n",
      "See the caveats in the documentation: https://pandas.pydata.org/pandas-docs/stable/user_guide/indexing.html#returning-a-view-versus-a-copy\n",
      "  seguros_5_anos_filtrado['Ano'] = seguros_5_anos_filtrado['damesano'].astype(str).str[:4]\n"
     ]
    }
   ],
   "source": [
    "seguros_5_anos_filtrado['Mês'] = seguros_5_anos_filtrado['damesano'].astype(str).str[-2:]\n",
    "\n",
    "seguros_5_anos_filtrado['Ano'] = seguros_5_anos_filtrado['damesano'].astype(str).str[:4]"
   ]
  },
  {
   "cell_type": "code",
   "execution_count": 201,
   "metadata": {
    "ExecuteTime": {
     "end_time": "2023-08-25T19:56:33.832660Z",
     "start_time": "2023-08-25T19:56:33.806079Z"
    },
    "scrolled": true
   },
   "outputs": [
    {
     "data": {
      "text/html": [
       "<div>\n",
       "<style scoped>\n",
       "    .dataframe tbody tr th:only-of-type {\n",
       "        vertical-align: middle;\n",
       "    }\n",
       "\n",
       "    .dataframe tbody tr th {\n",
       "        vertical-align: top;\n",
       "    }\n",
       "\n",
       "    .dataframe thead th {\n",
       "        text-align: right;\n",
       "    }\n",
       "</style>\n",
       "<table border=\"1\" class=\"dataframe\">\n",
       "  <thead>\n",
       "    <tr style=\"text-align: right;\">\n",
       "      <th></th>\n",
       "      <th>damesano</th>\n",
       "      <th>coenti</th>\n",
       "      <th>cogrupo</th>\n",
       "      <th>coramo</th>\n",
       "      <th>premio_direto</th>\n",
       "      <th>premio_de_seguros</th>\n",
       "      <th>premio_retido</th>\n",
       "      <th>premio_ganho</th>\n",
       "      <th>sinistro_direto</th>\n",
       "      <th>sinistro_retido</th>\n",
       "      <th>desp_com</th>\n",
       "      <th>premio_emitido2</th>\n",
       "      <th>sinistro_ocorrido</th>\n",
       "      <th>rvne</th>\n",
       "      <th>conveniodpvat</th>\n",
       "      <th>Mês</th>\n",
       "      <th>Ano</th>\n",
       "    </tr>\n",
       "  </thead>\n",
       "  <tbody>\n",
       "    <tr>\n",
       "      <th>481</th>\n",
       "      <td>201802</td>\n",
       "      <td>1007</td>\n",
       "      <td>1225</td>\n",
       "      <td>111.00</td>\n",
       "      <td>0.00</td>\n",
       "      <td>0.00</td>\n",
       "      <td>0</td>\n",
       "      <td>0.00</td>\n",
       "      <td>0</td>\n",
       "      <td>0</td>\n",
       "      <td>0.00</td>\n",
       "      <td>0.00</td>\n",
       "      <td>0.00</td>\n",
       "      <td>0.00</td>\n",
       "      <td>0.00</td>\n",
       "      <td>2</td>\n",
       "      <td>2018</td>\n",
       "    </tr>\n",
       "    <tr>\n",
       "      <th>482</th>\n",
       "      <td>201802</td>\n",
       "      <td>1007</td>\n",
       "      <td>1225</td>\n",
       "      <td>115.00</td>\n",
       "      <td>0.00</td>\n",
       "      <td>0.00</td>\n",
       "      <td>0</td>\n",
       "      <td>0.00</td>\n",
       "      <td>0</td>\n",
       "      <td>0</td>\n",
       "      <td>0.00</td>\n",
       "      <td>0.00</td>\n",
       "      <td>0.00</td>\n",
       "      <td>0.00</td>\n",
       "      <td>0.00</td>\n",
       "      <td>2</td>\n",
       "      <td>2018</td>\n",
       "    </tr>\n",
       "    <tr>\n",
       "      <th>483</th>\n",
       "      <td>201802</td>\n",
       "      <td>1007</td>\n",
       "      <td>1225</td>\n",
       "      <td>141.00</td>\n",
       "      <td>0.00</td>\n",
       "      <td>0.00</td>\n",
       "      <td>0</td>\n",
       "      <td>0.00</td>\n",
       "      <td>0</td>\n",
       "      <td>0</td>\n",
       "      <td>0.00</td>\n",
       "      <td>0.00</td>\n",
       "      <td>0.00</td>\n",
       "      <td>0.00</td>\n",
       "      <td>0.00</td>\n",
       "      <td>2</td>\n",
       "      <td>2018</td>\n",
       "    </tr>\n",
       "    <tr>\n",
       "      <th>484</th>\n",
       "      <td>201802</td>\n",
       "      <td>1007</td>\n",
       "      <td>1225</td>\n",
       "      <td>167.00</td>\n",
       "      <td>0.00</td>\n",
       "      <td>0.00</td>\n",
       "      <td>0</td>\n",
       "      <td>0.00</td>\n",
       "      <td>0</td>\n",
       "      <td>0</td>\n",
       "      <td>0.00</td>\n",
       "      <td>0.00</td>\n",
       "      <td>0.00</td>\n",
       "      <td>0.00</td>\n",
       "      <td>0.00</td>\n",
       "      <td>2</td>\n",
       "      <td>2018</td>\n",
       "    </tr>\n",
       "    <tr>\n",
       "      <th>485</th>\n",
       "      <td>201802</td>\n",
       "      <td>1007</td>\n",
       "      <td>1225</td>\n",
       "      <td>171.00</td>\n",
       "      <td>0.00</td>\n",
       "      <td>0.00</td>\n",
       "      <td>0</td>\n",
       "      <td>0.00</td>\n",
       "      <td>0</td>\n",
       "      <td>0</td>\n",
       "      <td>0.00</td>\n",
       "      <td>0.00</td>\n",
       "      <td>0.00</td>\n",
       "      <td>0.00</td>\n",
       "      <td>0.00</td>\n",
       "      <td>2</td>\n",
       "      <td>2018</td>\n",
       "    </tr>\n",
       "  </tbody>\n",
       "</table>\n",
       "</div>"
      ],
      "text/plain": [
       "     damesano  coenti  cogrupo  coramo  premio_direto  premio_de_seguros  \\\n",
       "481    201802    1007     1225  111.00           0.00               0.00   \n",
       "482    201802    1007     1225  115.00           0.00               0.00   \n",
       "483    201802    1007     1225  141.00           0.00               0.00   \n",
       "484    201802    1007     1225  167.00           0.00               0.00   \n",
       "485    201802    1007     1225  171.00           0.00               0.00   \n",
       "\n",
       "     premio_retido  premio_ganho  sinistro_direto  sinistro_retido  desp_com  \\\n",
       "481              0          0.00                0                0      0.00   \n",
       "482              0          0.00                0                0      0.00   \n",
       "483              0          0.00                0                0      0.00   \n",
       "484              0          0.00                0                0      0.00   \n",
       "485              0          0.00                0                0      0.00   \n",
       "\n",
       "     premio_emitido2  sinistro_ocorrido  rvne  conveniodpvat  Mês   Ano  \n",
       "481             0.00               0.00  0.00           0.00    2  2018  \n",
       "482             0.00               0.00  0.00           0.00    2  2018  \n",
       "483             0.00               0.00  0.00           0.00    2  2018  \n",
       "484             0.00               0.00  0.00           0.00    2  2018  \n",
       "485             0.00               0.00  0.00           0.00    2  2018  "
      ]
     },
     "execution_count": 201,
     "metadata": {},
     "output_type": "execute_result"
    }
   ],
   "source": [
    "seguros_5_anos_filtrado.head()"
   ]
  },
  {
   "cell_type": "code",
   "execution_count": 100,
   "metadata": {
    "ExecuteTime": {
     "end_time": "2023-08-25T16:02:22.167945Z",
     "start_time": "2023-08-25T16:02:22.115898Z"
    }
   },
   "outputs": [
    {
     "data": {
      "text/plain": [
       "481        201802\n",
       "482        201802\n",
       "483        201802\n",
       "484        201802\n",
       "485        201802\n",
       "            ...  \n",
       "1611292    202211\n",
       "1611293    202211\n",
       "1611294    202211\n",
       "1611295    202211\n",
       "1611296    202211\n",
       "Name: damesano, Length: 335646, dtype: int64"
      ]
     },
     "execution_count": 100,
     "metadata": {},
     "output_type": "execute_result"
    }
   ],
   "source": [
    "seguros_5_anos_filtrado['Mês'].astype(int)\n",
    "seguros_5_anos_filtrado['Ano'].astype(int)\n",
    "seguros_5_anos_filtrado['damesano'].astype(int)"
   ]
  },
  {
   "cell_type": "code",
   "execution_count": 101,
   "metadata": {
    "ExecuteTime": {
     "end_time": "2023-08-25T16:02:22.187339Z",
     "start_time": "2023-08-25T16:02:22.170665Z"
    }
   },
   "outputs": [
    {
     "data": {
      "text/plain": [
       "array(['02', '03', '10', '12', '06', '08', '09', '04', '05', '01', '07',\n",
       "       '11'], dtype=object)"
      ]
     },
     "execution_count": 101,
     "metadata": {},
     "output_type": "execute_result"
    }
   ],
   "source": [
    "seguros_5_anos_filtrado['Mês'].unique()"
   ]
  },
  {
   "cell_type": "code",
   "execution_count": 102,
   "metadata": {
    "ExecuteTime": {
     "end_time": "2023-08-25T16:02:22.409120Z",
     "start_time": "2023-08-25T16:02:22.188454Z"
    }
   },
   "outputs": [
    {
     "name": "stderr",
     "output_type": "stream",
     "text": [
      "/var/folders/39/b_95705d30x7x38r03qf35500000gn/T/ipykernel_36974/2823097633.py:1: SettingWithCopyWarning: \n",
      "A value is trying to be set on a copy of a slice from a DataFrame.\n",
      "Try using .loc[row_indexer,col_indexer] = value instead\n",
      "\n",
      "See the caveats in the documentation: https://pandas.pydata.org/pandas-docs/stable/user_guide/indexing.html#returning-a-view-versus-a-copy\n",
      "  seguros_5_anos_filtrado['Mês'] = pd.to_numeric(seguros_5_anos_filtrado['Mês'])\n",
      "/var/folders/39/b_95705d30x7x38r03qf35500000gn/T/ipykernel_36974/2823097633.py:2: SettingWithCopyWarning: \n",
      "A value is trying to be set on a copy of a slice from a DataFrame.\n",
      "Try using .loc[row_indexer,col_indexer] = value instead\n",
      "\n",
      "See the caveats in the documentation: https://pandas.pydata.org/pandas-docs/stable/user_guide/indexing.html#returning-a-view-versus-a-copy\n",
      "  seguros_5_anos_filtrado['Ano'] = pd.to_numeric(seguros_5_anos_filtrado['Ano'])\n"
     ]
    }
   ],
   "source": [
    "seguros_5_anos_filtrado['Mês'] = pd.to_numeric(seguros_5_anos_filtrado['Mês'])\n",
    "seguros_5_anos_filtrado['Ano'] = pd.to_numeric(seguros_5_anos_filtrado['Ano'])"
   ]
  },
  {
   "cell_type": "code",
   "execution_count": 103,
   "metadata": {
    "ExecuteTime": {
     "end_time": "2023-08-25T16:02:23.634291Z",
     "start_time": "2023-08-25T16:02:22.410136Z"
    }
   },
   "outputs": [
    {
     "name": "stderr",
     "output_type": "stream",
     "text": [
      "/var/folders/39/b_95705d30x7x38r03qf35500000gn/T/ipykernel_36974/3338052635.py:1: SettingWithCopyWarning: \n",
      "A value is trying to be set on a copy of a slice from a DataFrame.\n",
      "Try using .loc[row_indexer,col_indexer] = value instead\n",
      "\n",
      "See the caveats in the documentation: https://pandas.pydata.org/pandas-docs/stable/user_guide/indexing.html#returning-a-view-versus-a-copy\n",
      "  seguros_5_anos_filtrado['premio_direto'] = pd.to_numeric(seguros_5_anos_filtrado['premio_direto'], errors='coerce')\n",
      "/var/folders/39/b_95705d30x7x38r03qf35500000gn/T/ipykernel_36974/3338052635.py:2: SettingWithCopyWarning: \n",
      "A value is trying to be set on a copy of a slice from a DataFrame.\n",
      "Try using .loc[row_indexer,col_indexer] = value instead\n",
      "\n",
      "See the caveats in the documentation: https://pandas.pydata.org/pandas-docs/stable/user_guide/indexing.html#returning-a-view-versus-a-copy\n",
      "  seguros_5_anos_filtrado['premio_de_seguros'] = pd.to_numeric(seguros_5_anos_filtrado['premio_de_seguros'], errors='coerce')\n",
      "/var/folders/39/b_95705d30x7x38r03qf35500000gn/T/ipykernel_36974/3338052635.py:3: SettingWithCopyWarning: \n",
      "A value is trying to be set on a copy of a slice from a DataFrame.\n",
      "Try using .loc[row_indexer,col_indexer] = value instead\n",
      "\n",
      "See the caveats in the documentation: https://pandas.pydata.org/pandas-docs/stable/user_guide/indexing.html#returning-a-view-versus-a-copy\n",
      "  seguros_5_anos_filtrado['premio_retido'] = pd.to_numeric(seguros_5_anos_filtrado['premio_retido'], errors='coerce')\n",
      "/var/folders/39/b_95705d30x7x38r03qf35500000gn/T/ipykernel_36974/3338052635.py:4: SettingWithCopyWarning: \n",
      "A value is trying to be set on a copy of a slice from a DataFrame.\n",
      "Try using .loc[row_indexer,col_indexer] = value instead\n",
      "\n",
      "See the caveats in the documentation: https://pandas.pydata.org/pandas-docs/stable/user_guide/indexing.html#returning-a-view-versus-a-copy\n",
      "  seguros_5_anos_filtrado['premio_ganho'] = pd.to_numeric(seguros_5_anos_filtrado['premio_ganho'], errors='coerce')\n",
      "/var/folders/39/b_95705d30x7x38r03qf35500000gn/T/ipykernel_36974/3338052635.py:5: SettingWithCopyWarning: \n",
      "A value is trying to be set on a copy of a slice from a DataFrame.\n",
      "Try using .loc[row_indexer,col_indexer] = value instead\n",
      "\n",
      "See the caveats in the documentation: https://pandas.pydata.org/pandas-docs/stable/user_guide/indexing.html#returning-a-view-versus-a-copy\n",
      "  seguros_5_anos_filtrado['sinistro_direto'] = pd.to_numeric(seguros_5_anos_filtrado['sinistro_direto'], errors='coerce')\n",
      "/var/folders/39/b_95705d30x7x38r03qf35500000gn/T/ipykernel_36974/3338052635.py:6: SettingWithCopyWarning: \n",
      "A value is trying to be set on a copy of a slice from a DataFrame.\n",
      "Try using .loc[row_indexer,col_indexer] = value instead\n",
      "\n",
      "See the caveats in the documentation: https://pandas.pydata.org/pandas-docs/stable/user_guide/indexing.html#returning-a-view-versus-a-copy\n",
      "  seguros_5_anos_filtrado['sinistro_retido'] = pd.to_numeric(seguros_5_anos_filtrado['sinistro_retido'], errors='coerce')\n",
      "/var/folders/39/b_95705d30x7x38r03qf35500000gn/T/ipykernel_36974/3338052635.py:7: SettingWithCopyWarning: \n",
      "A value is trying to be set on a copy of a slice from a DataFrame.\n",
      "Try using .loc[row_indexer,col_indexer] = value instead\n",
      "\n",
      "See the caveats in the documentation: https://pandas.pydata.org/pandas-docs/stable/user_guide/indexing.html#returning-a-view-versus-a-copy\n",
      "  seguros_5_anos_filtrado['desp_com'] = pd.to_numeric(seguros_5_anos_filtrado['desp_com'], errors='coerce')\n",
      "/var/folders/39/b_95705d30x7x38r03qf35500000gn/T/ipykernel_36974/3338052635.py:8: SettingWithCopyWarning: \n",
      "A value is trying to be set on a copy of a slice from a DataFrame.\n",
      "Try using .loc[row_indexer,col_indexer] = value instead\n",
      "\n",
      "See the caveats in the documentation: https://pandas.pydata.org/pandas-docs/stable/user_guide/indexing.html#returning-a-view-versus-a-copy\n",
      "  seguros_5_anos_filtrado['premio_emitido2'] = pd.to_numeric(seguros_5_anos_filtrado['premio_emitido2'], errors='coerce')\n",
      "/var/folders/39/b_95705d30x7x38r03qf35500000gn/T/ipykernel_36974/3338052635.py:9: SettingWithCopyWarning: \n",
      "A value is trying to be set on a copy of a slice from a DataFrame.\n",
      "Try using .loc[row_indexer,col_indexer] = value instead\n",
      "\n",
      "See the caveats in the documentation: https://pandas.pydata.org/pandas-docs/stable/user_guide/indexing.html#returning-a-view-versus-a-copy\n",
      "  seguros_5_anos_filtrado['sinistro_ocorrido'] = pd.to_numeric(seguros_5_anos_filtrado['sinistro_ocorrido'], errors='coerce')\n",
      "/var/folders/39/b_95705d30x7x38r03qf35500000gn/T/ipykernel_36974/3338052635.py:10: SettingWithCopyWarning: \n",
      "A value is trying to be set on a copy of a slice from a DataFrame.\n",
      "Try using .loc[row_indexer,col_indexer] = value instead\n",
      "\n",
      "See the caveats in the documentation: https://pandas.pydata.org/pandas-docs/stable/user_guide/indexing.html#returning-a-view-versus-a-copy\n",
      "  seguros_5_anos_filtrado['rvne'] = pd.to_numeric(seguros_5_anos_filtrado['rvne'], errors='coerce')\n",
      "/var/folders/39/b_95705d30x7x38r03qf35500000gn/T/ipykernel_36974/3338052635.py:11: SettingWithCopyWarning: \n",
      "A value is trying to be set on a copy of a slice from a DataFrame.\n",
      "Try using .loc[row_indexer,col_indexer] = value instead\n",
      "\n",
      "See the caveats in the documentation: https://pandas.pydata.org/pandas-docs/stable/user_guide/indexing.html#returning-a-view-versus-a-copy\n",
      "  seguros_5_anos_filtrado['conveniodpvat'] = pd.to_numeric(seguros_5_anos_filtrado['conveniodpvat'], errors='coerce')\n"
     ]
    }
   ],
   "source": [
    "seguros_5_anos_filtrado['premio_direto'] = pd.to_numeric(seguros_5_anos_filtrado['premio_direto'], errors='coerce')\n",
    "seguros_5_anos_filtrado['premio_de_seguros'] = pd.to_numeric(seguros_5_anos_filtrado['premio_de_seguros'], errors='coerce')\n",
    "seguros_5_anos_filtrado['premio_retido'] = pd.to_numeric(seguros_5_anos_filtrado['premio_retido'], errors='coerce')\n",
    "seguros_5_anos_filtrado['premio_ganho'] = pd.to_numeric(seguros_5_anos_filtrado['premio_ganho'], errors='coerce')\n",
    "seguros_5_anos_filtrado['sinistro_direto'] = pd.to_numeric(seguros_5_anos_filtrado['sinistro_direto'], errors='coerce')\n",
    "seguros_5_anos_filtrado['sinistro_retido'] = pd.to_numeric(seguros_5_anos_filtrado['sinistro_retido'], errors='coerce')\n",
    "seguros_5_anos_filtrado['desp_com'] = pd.to_numeric(seguros_5_anos_filtrado['desp_com'], errors='coerce')\n",
    "seguros_5_anos_filtrado['premio_emitido2'] = pd.to_numeric(seguros_5_anos_filtrado['premio_emitido2'], errors='coerce')\n",
    "seguros_5_anos_filtrado['sinistro_ocorrido'] = pd.to_numeric(seguros_5_anos_filtrado['sinistro_ocorrido'], errors='coerce')\n",
    "seguros_5_anos_filtrado['rvne'] = pd.to_numeric(seguros_5_anos_filtrado['rvne'], errors='coerce')\n",
    "seguros_5_anos_filtrado['conveniodpvat'] = pd.to_numeric(seguros_5_anos_filtrado['conveniodpvat'], errors='coerce')"
   ]
  },
  {
   "cell_type": "code",
   "execution_count": 104,
   "metadata": {
    "ExecuteTime": {
     "end_time": "2023-08-25T16:02:23.662447Z",
     "start_time": "2023-08-25T16:02:23.635323Z"
    }
   },
   "outputs": [
    {
     "data": {
      "text/html": [
       "<div>\n",
       "<style scoped>\n",
       "    .dataframe tbody tr th:only-of-type {\n",
       "        vertical-align: middle;\n",
       "    }\n",
       "\n",
       "    .dataframe tbody tr th {\n",
       "        vertical-align: top;\n",
       "    }\n",
       "\n",
       "    .dataframe thead th {\n",
       "        text-align: right;\n",
       "    }\n",
       "</style>\n",
       "<table border=\"1\" class=\"dataframe\">\n",
       "  <thead>\n",
       "    <tr style=\"text-align: right;\">\n",
       "      <th></th>\n",
       "      <th>damesano</th>\n",
       "      <th>coenti</th>\n",
       "      <th>cogrupo</th>\n",
       "      <th>coramo</th>\n",
       "      <th>premio_direto</th>\n",
       "      <th>premio_de_seguros</th>\n",
       "      <th>premio_retido</th>\n",
       "      <th>premio_ganho</th>\n",
       "      <th>sinistro_direto</th>\n",
       "      <th>sinistro_retido</th>\n",
       "      <th>desp_com</th>\n",
       "      <th>premio_emitido2</th>\n",
       "      <th>sinistro_ocorrido</th>\n",
       "      <th>rvne</th>\n",
       "      <th>conveniodpvat</th>\n",
       "      <th>Mês</th>\n",
       "      <th>Ano</th>\n",
       "    </tr>\n",
       "  </thead>\n",
       "  <tbody>\n",
       "    <tr>\n",
       "      <th>501</th>\n",
       "      <td>201802</td>\n",
       "      <td>1007</td>\n",
       "      <td>1225</td>\n",
       "      <td>929.0</td>\n",
       "      <td>NaN</td>\n",
       "      <td>NaN</td>\n",
       "      <td>0</td>\n",
       "      <td>NaN</td>\n",
       "      <td>0</td>\n",
       "      <td>0</td>\n",
       "      <td>NaN</td>\n",
       "      <td>NaN</td>\n",
       "      <td>NaN</td>\n",
       "      <td>0.0</td>\n",
       "      <td>0.0</td>\n",
       "      <td>2</td>\n",
       "      <td>2018</td>\n",
       "    </tr>\n",
       "    <tr>\n",
       "      <th>502</th>\n",
       "      <td>201802</td>\n",
       "      <td>1007</td>\n",
       "      <td>1225</td>\n",
       "      <td>977.0</td>\n",
       "      <td>NaN</td>\n",
       "      <td>NaN</td>\n",
       "      <td>0</td>\n",
       "      <td>NaN</td>\n",
       "      <td>0</td>\n",
       "      <td>0</td>\n",
       "      <td>NaN</td>\n",
       "      <td>NaN</td>\n",
       "      <td>NaN</td>\n",
       "      <td>0.0</td>\n",
       "      <td>0.0</td>\n",
       "      <td>2</td>\n",
       "      <td>2018</td>\n",
       "    </tr>\n",
       "    <tr>\n",
       "      <th>505</th>\n",
       "      <td>201802</td>\n",
       "      <td>1007</td>\n",
       "      <td>1225</td>\n",
       "      <td>982.0</td>\n",
       "      <td>NaN</td>\n",
       "      <td>NaN</td>\n",
       "      <td>0</td>\n",
       "      <td>NaN</td>\n",
       "      <td>0</td>\n",
       "      <td>0</td>\n",
       "      <td>NaN</td>\n",
       "      <td>NaN</td>\n",
       "      <td>NaN</td>\n",
       "      <td>0.0</td>\n",
       "      <td>0.0</td>\n",
       "      <td>2</td>\n",
       "      <td>2018</td>\n",
       "    </tr>\n",
       "    <tr>\n",
       "      <th>509</th>\n",
       "      <td>201802</td>\n",
       "      <td>1007</td>\n",
       "      <td>1225</td>\n",
       "      <td>993.0</td>\n",
       "      <td>NaN</td>\n",
       "      <td>NaN</td>\n",
       "      <td>0</td>\n",
       "      <td>NaN</td>\n",
       "      <td>0</td>\n",
       "      <td>0</td>\n",
       "      <td>NaN</td>\n",
       "      <td>NaN</td>\n",
       "      <td>NaN</td>\n",
       "      <td>0.0</td>\n",
       "      <td>0.0</td>\n",
       "      <td>2</td>\n",
       "      <td>2018</td>\n",
       "    </tr>\n",
       "    <tr>\n",
       "      <th>514</th>\n",
       "      <td>201802</td>\n",
       "      <td>1414</td>\n",
       "      <td>1225</td>\n",
       "      <td>167.0</td>\n",
       "      <td>NaN</td>\n",
       "      <td>NaN</td>\n",
       "      <td>0</td>\n",
       "      <td>NaN</td>\n",
       "      <td>0</td>\n",
       "      <td>0</td>\n",
       "      <td>NaN</td>\n",
       "      <td>NaN</td>\n",
       "      <td>NaN</td>\n",
       "      <td>NaN</td>\n",
       "      <td>0.0</td>\n",
       "      <td>2</td>\n",
       "      <td>2018</td>\n",
       "    </tr>\n",
       "    <tr>\n",
       "      <th>...</th>\n",
       "      <td>...</td>\n",
       "      <td>...</td>\n",
       "      <td>...</td>\n",
       "      <td>...</td>\n",
       "      <td>...</td>\n",
       "      <td>...</td>\n",
       "      <td>...</td>\n",
       "      <td>...</td>\n",
       "      <td>...</td>\n",
       "      <td>...</td>\n",
       "      <td>...</td>\n",
       "      <td>...</td>\n",
       "      <td>...</td>\n",
       "      <td>...</td>\n",
       "      <td>...</td>\n",
       "      <td>...</td>\n",
       "      <td>...</td>\n",
       "    </tr>\n",
       "    <tr>\n",
       "      <th>1611272</th>\n",
       "      <td>202205</td>\n",
       "      <td>8737</td>\n",
       "      <td>99999</td>\n",
       "      <td>1537.0</td>\n",
       "      <td>NaN</td>\n",
       "      <td>NaN</td>\n",
       "      <td>0</td>\n",
       "      <td>NaN</td>\n",
       "      <td>0</td>\n",
       "      <td>0</td>\n",
       "      <td>NaN</td>\n",
       "      <td>NaN</td>\n",
       "      <td>NaN</td>\n",
       "      <td>-856.0</td>\n",
       "      <td>0.0</td>\n",
       "      <td>5</td>\n",
       "      <td>2022</td>\n",
       "    </tr>\n",
       "    <tr>\n",
       "      <th>1611275</th>\n",
       "      <td>202205</td>\n",
       "      <td>8737</td>\n",
       "      <td>99999</td>\n",
       "      <td>1734.0</td>\n",
       "      <td>NaN</td>\n",
       "      <td>NaN</td>\n",
       "      <td>0</td>\n",
       "      <td>NaN</td>\n",
       "      <td>0</td>\n",
       "      <td>0</td>\n",
       "      <td>NaN</td>\n",
       "      <td>NaN</td>\n",
       "      <td>NaN</td>\n",
       "      <td>-1445.0</td>\n",
       "      <td>0.0</td>\n",
       "      <td>5</td>\n",
       "      <td>2022</td>\n",
       "    </tr>\n",
       "    <tr>\n",
       "      <th>1611289</th>\n",
       "      <td>202211</td>\n",
       "      <td>9938</td>\n",
       "      <td>345</td>\n",
       "      <td>982.0</td>\n",
       "      <td>NaN</td>\n",
       "      <td>NaN</td>\n",
       "      <td>0</td>\n",
       "      <td>NaN</td>\n",
       "      <td>0</td>\n",
       "      <td>0</td>\n",
       "      <td>NaN</td>\n",
       "      <td>NaN</td>\n",
       "      <td>1533768.0</td>\n",
       "      <td>-1153002.0</td>\n",
       "      <td>0.0</td>\n",
       "      <td>11</td>\n",
       "      <td>2022</td>\n",
       "    </tr>\n",
       "    <tr>\n",
       "      <th>1611290</th>\n",
       "      <td>202211</td>\n",
       "      <td>9938</td>\n",
       "      <td>345</td>\n",
       "      <td>984.0</td>\n",
       "      <td>NaN</td>\n",
       "      <td>NaN</td>\n",
       "      <td>0</td>\n",
       "      <td>NaN</td>\n",
       "      <td>0</td>\n",
       "      <td>0</td>\n",
       "      <td>NaN</td>\n",
       "      <td>NaN</td>\n",
       "      <td>491.0</td>\n",
       "      <td>-15794.0</td>\n",
       "      <td>0.0</td>\n",
       "      <td>11</td>\n",
       "      <td>2022</td>\n",
       "    </tr>\n",
       "    <tr>\n",
       "      <th>1611291</th>\n",
       "      <td>202211</td>\n",
       "      <td>9938</td>\n",
       "      <td>345</td>\n",
       "      <td>993.0</td>\n",
       "      <td>NaN</td>\n",
       "      <td>NaN</td>\n",
       "      <td>0</td>\n",
       "      <td>NaN</td>\n",
       "      <td>0</td>\n",
       "      <td>0</td>\n",
       "      <td>NaN</td>\n",
       "      <td>NaN</td>\n",
       "      <td>NaN</td>\n",
       "      <td>-452929.0</td>\n",
       "      <td>0.0</td>\n",
       "      <td>11</td>\n",
       "      <td>2022</td>\n",
       "    </tr>\n",
       "  </tbody>\n",
       "</table>\n",
       "<p>90725 rows × 17 columns</p>\n",
       "</div>"
      ],
      "text/plain": [
       "         damesano  coenti  cogrupo  coramo  premio_direto  premio_de_seguros  \\\n",
       "501        201802    1007     1225   929.0            NaN                NaN   \n",
       "502        201802    1007     1225   977.0            NaN                NaN   \n",
       "505        201802    1007     1225   982.0            NaN                NaN   \n",
       "509        201802    1007     1225   993.0            NaN                NaN   \n",
       "514        201802    1414     1225   167.0            NaN                NaN   \n",
       "...           ...     ...      ...     ...            ...                ...   \n",
       "1611272    202205    8737    99999  1537.0            NaN                NaN   \n",
       "1611275    202205    8737    99999  1734.0            NaN                NaN   \n",
       "1611289    202211    9938      345   982.0            NaN                NaN   \n",
       "1611290    202211    9938      345   984.0            NaN                NaN   \n",
       "1611291    202211    9938      345   993.0            NaN                NaN   \n",
       "\n",
       "         premio_retido  premio_ganho  sinistro_direto  sinistro_retido  \\\n",
       "501                  0           NaN                0                0   \n",
       "502                  0           NaN                0                0   \n",
       "505                  0           NaN                0                0   \n",
       "509                  0           NaN                0                0   \n",
       "514                  0           NaN                0                0   \n",
       "...                ...           ...              ...              ...   \n",
       "1611272              0           NaN                0                0   \n",
       "1611275              0           NaN                0                0   \n",
       "1611289              0           NaN                0                0   \n",
       "1611290              0           NaN                0                0   \n",
       "1611291              0           NaN                0                0   \n",
       "\n",
       "         desp_com  premio_emitido2  sinistro_ocorrido       rvne  \\\n",
       "501           NaN              NaN                NaN        0.0   \n",
       "502           NaN              NaN                NaN        0.0   \n",
       "505           NaN              NaN                NaN        0.0   \n",
       "509           NaN              NaN                NaN        0.0   \n",
       "514           NaN              NaN                NaN        NaN   \n",
       "...           ...              ...                ...        ...   \n",
       "1611272       NaN              NaN                NaN     -856.0   \n",
       "1611275       NaN              NaN                NaN    -1445.0   \n",
       "1611289       NaN              NaN          1533768.0 -1153002.0   \n",
       "1611290       NaN              NaN              491.0   -15794.0   \n",
       "1611291       NaN              NaN                NaN  -452929.0   \n",
       "\n",
       "         conveniodpvat  Mês   Ano  \n",
       "501                0.0    2  2018  \n",
       "502                0.0    2  2018  \n",
       "505                0.0    2  2018  \n",
       "509                0.0    2  2018  \n",
       "514                0.0    2  2018  \n",
       "...                ...  ...   ...  \n",
       "1611272            0.0    5  2022  \n",
       "1611275            0.0    5  2022  \n",
       "1611289            0.0   11  2022  \n",
       "1611290            0.0   11  2022  \n",
       "1611291            0.0   11  2022  \n",
       "\n",
       "[90725 rows x 17 columns]"
      ]
     },
     "execution_count": 104,
     "metadata": {},
     "output_type": "execute_result"
    }
   ],
   "source": [
    "seguros_5_anos_filtrado[seguros_5_anos_filtrado['premio_direto'].isnull()]"
   ]
  },
  {
   "cell_type": "code",
   "execution_count": 105,
   "metadata": {
    "ExecuteTime": {
     "end_time": "2023-08-25T16:02:23.672200Z",
     "start_time": "2023-08-25T16:02:23.663714Z"
    }
   },
   "outputs": [
    {
     "name": "stderr",
     "output_type": "stream",
     "text": [
      "/var/folders/39/b_95705d30x7x38r03qf35500000gn/T/ipykernel_36974/3427912880.py:1: SettingWithCopyWarning: \n",
      "A value is trying to be set on a copy of a slice from a DataFrame\n",
      "\n",
      "See the caveats in the documentation: https://pandas.pydata.org/pandas-docs/stable/user_guide/indexing.html#returning-a-view-versus-a-copy\n",
      "  seguros_5_anos_filtrado.fillna(0, inplace=True)\n"
     ]
    }
   ],
   "source": [
    "seguros_5_anos_filtrado.fillna(0, inplace=True)"
   ]
  },
  {
   "cell_type": "markdown",
   "metadata": {},
   "source": [
    "# Análise Geral Prêmio"
   ]
  },
  {
   "cell_type": "code",
   "execution_count": 106,
   "metadata": {
    "ExecuteTime": {
     "end_time": "2023-08-25T16:02:23.679139Z",
     "start_time": "2023-08-25T16:02:23.673233Z"
    }
   },
   "outputs": [
    {
     "data": {
      "text/plain": [
       "0    7452\n",
       "Name: premio_retido, dtype: int64"
      ]
     },
     "execution_count": 106,
     "metadata": {},
     "output_type": "execute_result"
    }
   ],
   "source": [
    "premios_5_anos_agregado['premio_retido'].value_counts()"
   ]
  },
  {
   "cell_type": "code",
   "execution_count": 107,
   "metadata": {
    "ExecuteTime": {
     "end_time": "2023-08-25T16:02:23.704955Z",
     "start_time": "2023-08-25T16:02:23.680152Z"
    }
   },
   "outputs": [
    {
     "name": "stderr",
     "output_type": "stream",
     "text": [
      "/var/folders/39/b_95705d30x7x38r03qf35500000gn/T/ipykernel_36974/123525491.py:1: FutureWarning: Indexing with multiple keys (implicitly converted to a tuple of keys) will be deprecated, use a list instead.\n",
      "  premios_5_anos_agregado = seguros_5_anos_filtrado.groupby(['coenti', 'Mês', 'Ano'])['premio_direto', 'premio_de_seguros', 'premio_ganho', 'premio_emitido2'].sum()\n"
     ]
    }
   ],
   "source": [
    "premios_5_anos_agregado = seguros_5_anos_filtrado.groupby(['coenti', 'Mês', 'Ano'])['premio_direto', 'premio_de_seguros', 'premio_ganho', 'premio_emitido2'].sum()\n"
   ]
  },
  {
   "cell_type": "code",
   "execution_count": 108,
   "metadata": {
    "ExecuteTime": {
     "end_time": "2023-08-25T16:02:23.710769Z",
     "start_time": "2023-08-25T16:02:23.706083Z"
    }
   },
   "outputs": [],
   "source": [
    "colunas_para_transformar = ['premio_direto', 'premio_de_seguros', 'premio_ganho', 'premio_emitido2']\n",
    "premios_5_anos_agregado[colunas_para_transformar] = premios_5_anos_agregado[colunas_para_transformar].abs()"
   ]
  },
  {
   "cell_type": "code",
   "execution_count": 109,
   "metadata": {
    "ExecuteTime": {
     "end_time": "2023-08-25T16:02:23.715466Z",
     "start_time": "2023-08-25T16:02:23.712093Z"
    }
   },
   "outputs": [],
   "source": [
    "premios_5_anos_agregado['premio_consolidado'] = premios_5_anos_agregado[colunas_para_transformar].max(axis=1)"
   ]
  },
  {
   "cell_type": "code",
   "execution_count": 110,
   "metadata": {
    "ExecuteTime": {
     "end_time": "2023-08-25T16:02:23.727246Z",
     "start_time": "2023-08-25T16:02:23.716456Z"
    }
   },
   "outputs": [
    {
     "data": {
      "text/html": [
       "<div>\n",
       "<style scoped>\n",
       "    .dataframe tbody tr th:only-of-type {\n",
       "        vertical-align: middle;\n",
       "    }\n",
       "\n",
       "    .dataframe tbody tr th {\n",
       "        vertical-align: top;\n",
       "    }\n",
       "\n",
       "    .dataframe thead th {\n",
       "        text-align: right;\n",
       "    }\n",
       "</style>\n",
       "<table border=\"1\" class=\"dataframe\">\n",
       "  <thead>\n",
       "    <tr style=\"text-align: right;\">\n",
       "      <th></th>\n",
       "      <th></th>\n",
       "      <th></th>\n",
       "      <th>premio_direto</th>\n",
       "      <th>premio_de_seguros</th>\n",
       "      <th>premio_ganho</th>\n",
       "      <th>premio_emitido2</th>\n",
       "      <th>premio_consolidado</th>\n",
       "    </tr>\n",
       "    <tr>\n",
       "      <th>coenti</th>\n",
       "      <th>Mês</th>\n",
       "      <th>Ano</th>\n",
       "      <th></th>\n",
       "      <th></th>\n",
       "      <th></th>\n",
       "      <th></th>\n",
       "      <th></th>\n",
       "    </tr>\n",
       "  </thead>\n",
       "  <tbody>\n",
       "    <tr>\n",
       "      <th rowspan=\"5\" valign=\"top\">1007</th>\n",
       "      <th rowspan=\"5\" valign=\"top\">1</th>\n",
       "      <th>2018</th>\n",
       "      <td>0.0</td>\n",
       "      <td>0.0</td>\n",
       "      <td>0.0</td>\n",
       "      <td>0.0</td>\n",
       "      <td>0.0</td>\n",
       "    </tr>\n",
       "    <tr>\n",
       "      <th>2019</th>\n",
       "      <td>0.0</td>\n",
       "      <td>0.0</td>\n",
       "      <td>0.0</td>\n",
       "      <td>0.0</td>\n",
       "      <td>0.0</td>\n",
       "    </tr>\n",
       "    <tr>\n",
       "      <th>2020</th>\n",
       "      <td>0.0</td>\n",
       "      <td>0.0</td>\n",
       "      <td>0.0</td>\n",
       "      <td>0.0</td>\n",
       "      <td>0.0</td>\n",
       "    </tr>\n",
       "    <tr>\n",
       "      <th>2021</th>\n",
       "      <td>0.0</td>\n",
       "      <td>0.0</td>\n",
       "      <td>0.0</td>\n",
       "      <td>0.0</td>\n",
       "      <td>0.0</td>\n",
       "    </tr>\n",
       "    <tr>\n",
       "      <th>2022</th>\n",
       "      <td>0.0</td>\n",
       "      <td>0.0</td>\n",
       "      <td>0.0</td>\n",
       "      <td>0.0</td>\n",
       "      <td>0.0</td>\n",
       "    </tr>\n",
       "    <tr>\n",
       "      <th>...</th>\n",
       "      <th>...</th>\n",
       "      <th>...</th>\n",
       "      <td>...</td>\n",
       "      <td>...</td>\n",
       "      <td>...</td>\n",
       "      <td>...</td>\n",
       "      <td>...</td>\n",
       "    </tr>\n",
       "    <tr>\n",
       "      <th rowspan=\"5\" valign=\"top\">9938</th>\n",
       "      <th rowspan=\"5\" valign=\"top\">12</th>\n",
       "      <th>2018</th>\n",
       "      <td>95.0</td>\n",
       "      <td>95.0</td>\n",
       "      <td>0.0</td>\n",
       "      <td>95.0</td>\n",
       "      <td>95.0</td>\n",
       "    </tr>\n",
       "    <tr>\n",
       "      <th>2019</th>\n",
       "      <td>0.0</td>\n",
       "      <td>0.0</td>\n",
       "      <td>0.0</td>\n",
       "      <td>0.0</td>\n",
       "      <td>0.0</td>\n",
       "    </tr>\n",
       "    <tr>\n",
       "      <th>2020</th>\n",
       "      <td>94698.0</td>\n",
       "      <td>94800.0</td>\n",
       "      <td>0.0</td>\n",
       "      <td>94800.0</td>\n",
       "      <td>94800.0</td>\n",
       "    </tr>\n",
       "    <tr>\n",
       "      <th>2021</th>\n",
       "      <td>0.0</td>\n",
       "      <td>0.0</td>\n",
       "      <td>0.0</td>\n",
       "      <td>0.0</td>\n",
       "      <td>0.0</td>\n",
       "    </tr>\n",
       "    <tr>\n",
       "      <th>2022</th>\n",
       "      <td>0.0</td>\n",
       "      <td>0.0</td>\n",
       "      <td>0.0</td>\n",
       "      <td>0.0</td>\n",
       "      <td>0.0</td>\n",
       "    </tr>\n",
       "  </tbody>\n",
       "</table>\n",
       "<p>8041 rows × 5 columns</p>\n",
       "</div>"
      ],
      "text/plain": [
       "                 premio_direto  premio_de_seguros  premio_ganho  \\\n",
       "coenti Mês Ano                                                    \n",
       "1007   1   2018            0.0                0.0           0.0   \n",
       "           2019            0.0                0.0           0.0   \n",
       "           2020            0.0                0.0           0.0   \n",
       "           2021            0.0                0.0           0.0   \n",
       "           2022            0.0                0.0           0.0   \n",
       "...                        ...                ...           ...   \n",
       "9938   12  2018           95.0               95.0           0.0   \n",
       "           2019            0.0                0.0           0.0   \n",
       "           2020        94698.0            94800.0           0.0   \n",
       "           2021            0.0                0.0           0.0   \n",
       "           2022            0.0                0.0           0.0   \n",
       "\n",
       "                 premio_emitido2  premio_consolidado  \n",
       "coenti Mês Ano                                        \n",
       "1007   1   2018              0.0                 0.0  \n",
       "           2019              0.0                 0.0  \n",
       "           2020              0.0                 0.0  \n",
       "           2021              0.0                 0.0  \n",
       "           2022              0.0                 0.0  \n",
       "...                          ...                 ...  \n",
       "9938   12  2018             95.0                95.0  \n",
       "           2019              0.0                 0.0  \n",
       "           2020          94800.0             94800.0  \n",
       "           2021              0.0                 0.0  \n",
       "           2022              0.0                 0.0  \n",
       "\n",
       "[8041 rows x 5 columns]"
      ]
     },
     "execution_count": 110,
     "metadata": {},
     "output_type": "execute_result"
    }
   ],
   "source": [
    "premios_5_anos_agregado"
   ]
  },
  {
   "cell_type": "code",
   "execution_count": 111,
   "metadata": {
    "ExecuteTime": {
     "end_time": "2023-08-25T16:02:23.733230Z",
     "start_time": "2023-08-25T16:02:23.729054Z"
    }
   },
   "outputs": [
    {
     "data": {
      "text/plain": [
       "0"
      ]
     },
     "execution_count": 111,
     "metadata": {},
     "output_type": "execute_result"
    }
   ],
   "source": [
    "(premios_5_anos_agregado['premio_consolidado'] < 0).sum()"
   ]
  },
  {
   "cell_type": "markdown",
   "metadata": {},
   "source": [
    "# Crescimento do mercado por ano"
   ]
  },
  {
   "cell_type": "code",
   "execution_count": 127,
   "metadata": {
    "ExecuteTime": {
     "end_time": "2023-08-25T16:17:18.290100Z",
     "start_time": "2023-08-25T16:17:18.283255Z"
    }
   },
   "outputs": [],
   "source": [
    "# Soma por Ano\n",
    "soma_premio_por_ano = premios_5_anos_agregado.groupby('Ano')['premio_consolidado'].sum()"
   ]
  },
  {
   "cell_type": "code",
   "execution_count": 147,
   "metadata": {
    "ExecuteTime": {
     "end_time": "2023-08-25T17:31:44.028874Z",
     "start_time": "2023-08-25T17:31:44.014573Z"
    }
   },
   "outputs": [
    {
     "data": {
      "text/plain": [
       "Ano\n",
       "2018   2588166838.00\n",
       "2019   3652312329.00\n",
       "2020   3227234484.00\n",
       "2021   3145110002.00\n",
       "2022   3674048997.00\n",
       "2023   1660091991.00\n",
       "Name: premio_consolidado, dtype: float64"
      ]
     },
     "execution_count": 147,
     "metadata": {},
     "output_type": "execute_result"
    }
   ],
   "source": [
    "pd.options.display.float_format = '{:.2f}'.format\n",
    "\n",
    "soma_premio_por_ano"
   ]
  },
  {
   "cell_type": "markdown",
   "metadata": {},
   "source": [
    "# Empresa que Mais Faturou nos últimos 5 anos (Prêmios)"
   ]
  },
  {
   "cell_type": "code",
   "execution_count": 132,
   "metadata": {
    "ExecuteTime": {
     "end_time": "2023-08-25T17:22:52.091848Z",
     "start_time": "2023-08-25T17:22:52.058825Z"
    }
   },
   "outputs": [],
   "source": [
    "soma_premio_por_coenti = premios_5_anos_agregado.groupby('coenti')['premio_consolidado'].sum()"
   ]
  },
  {
   "cell_type": "code",
   "execution_count": 140,
   "metadata": {
    "ExecuteTime": {
     "end_time": "2023-08-25T17:25:37.759089Z",
     "start_time": "2023-08-25T17:25:37.739314Z"
    }
   },
   "outputs": [
    {
     "data": {
      "text/plain": [
       "coenti\n",
       "6785    2.293021e+09\n",
       "5886    1.168413e+09\n",
       "6190    1.125184e+09\n",
       "5495    9.054583e+08\n",
       "5312    8.000272e+08\n",
       "            ...     \n",
       "1848    0.000000e+00\n",
       "2267    0.000000e+00\n",
       "6360    0.000000e+00\n",
       "6157    0.000000e+00\n",
       "3417    0.000000e+00\n",
       "Name: premio_consolidado, Length: 146, dtype: float64"
      ]
     },
     "execution_count": 140,
     "metadata": {},
     "output_type": "execute_result"
    }
   ],
   "source": [
    "soma_premio_por_coenti.sort_values(ascending=False)"
   ]
  },
  {
   "cell_type": "code",
   "execution_count": 141,
   "metadata": {
    "ExecuteTime": {
     "end_time": "2023-08-25T17:25:58.843443Z",
     "start_time": "2023-08-25T17:25:58.835664Z"
    }
   },
   "outputs": [
    {
     "data": {
      "text/plain": [
       "2293020651.0"
      ]
     },
     "execution_count": 141,
     "metadata": {},
     "output_type": "execute_result"
    }
   ],
   "source": [
    "soma_premio_por_coenti.max()"
   ]
  },
  {
   "cell_type": "code",
   "execution_count": 148,
   "metadata": {
    "ExecuteTime": {
     "end_time": "2023-08-25T17:37:57.147190Z",
     "start_time": "2023-08-25T17:37:57.127469Z"
    },
    "scrolled": true
   },
   "outputs": [],
   "source": [
    "brasilseg = seguradoras[seguradoras['coenti'] == 6785]"
   ]
  },
  {
   "cell_type": "code",
   "execution_count": 150,
   "metadata": {
    "ExecuteTime": {
     "end_time": "2023-08-25T17:38:12.079272Z",
     "start_time": "2023-08-25T17:38:12.066426Z"
    }
   },
   "outputs": [
    {
     "data": {
      "text/plain": [
       "array(['Companhia de Seguros Aliança do Brasil                                                                                            ',\n",
       "       'Brasilseg Companhia de Seguros                                                                                                    '],\n",
       "      dtype=object)"
      ]
     },
     "execution_count": 150,
     "metadata": {},
     "output_type": "execute_result"
    }
   ],
   "source": [
    "brasilseg['noenti'].unique()"
   ]
  },
  {
   "cell_type": "code",
   "execution_count": 144,
   "metadata": {
    "ExecuteTime": {
     "end_time": "2023-08-25T17:28:21.506855Z",
     "start_time": "2023-08-25T17:28:21.487356Z"
    }
   },
   "outputs": [
    {
     "data": {
      "text/plain": [
       "17946964641.0"
      ]
     },
     "execution_count": 144,
     "metadata": {},
     "output_type": "execute_result"
    }
   ],
   "source": [
    "soma_premio_por_coenti.sum()"
   ]
  },
  {
   "cell_type": "code",
   "execution_count": 145,
   "metadata": {
    "ExecuteTime": {
     "end_time": "2023-08-25T17:28:55.772823Z",
     "start_time": "2023-08-25T17:28:55.759412Z"
    }
   },
   "outputs": [
    {
     "data": {
      "text/plain": [
       "12.776648847691904"
      ]
     },
     "execution_count": 145,
     "metadata": {},
     "output_type": "execute_result"
    }
   ],
   "source": [
    "(soma_premio_por_coenti.max() * 100) / soma_premio_por_coenti.sum()"
   ]
  },
  {
   "cell_type": "markdown",
   "metadata": {},
   "source": [
    "# Empresa que Mais Faturou em 2022 (Prêmios)"
   ]
  },
  {
   "cell_type": "code",
   "execution_count": 151,
   "metadata": {
    "ExecuteTime": {
     "end_time": "2023-08-25T17:42:37.960458Z",
     "start_time": "2023-08-25T17:42:37.946111Z"
    }
   },
   "outputs": [],
   "source": [
    "soma_premio_por_coenti_ano = premios_5_anos_agregado.groupby(['coenti','Ano'])['premio_consolidado'].sum()"
   ]
  },
  {
   "cell_type": "code",
   "execution_count": 155,
   "metadata": {
    "ExecuteTime": {
     "end_time": "2023-08-25T17:44:44.266104Z",
     "start_time": "2023-08-25T17:44:44.256936Z"
    }
   },
   "outputs": [
    {
     "data": {
      "text/plain": [
       "507331459.0"
      ]
     },
     "execution_count": 155,
     "metadata": {},
     "output_type": "execute_result"
    }
   ],
   "source": [
    "dados_2022 = soma_premio_por_coenti_ano[soma_premio_por_coenti_ano.index.get_level_values('Ano') == 2022]\n",
    "maior_valor_2022 = dados_2022.max()\n",
    "maior_valor_2022"
   ]
  },
  {
   "cell_type": "code",
   "execution_count": 225,
   "metadata": {
    "ExecuteTime": {
     "end_time": "2023-08-25T20:41:34.013388Z",
     "start_time": "2023-08-25T20:41:34.001241Z"
    }
   },
   "outputs": [
    {
     "data": {
      "text/plain": [
       "3674048997.0"
      ]
     },
     "execution_count": 225,
     "metadata": {},
     "output_type": "execute_result"
    }
   ],
   "source": [
    "dados_2022.sum()"
   ]
  },
  {
   "cell_type": "code",
   "execution_count": 226,
   "metadata": {
    "ExecuteTime": {
     "end_time": "2023-08-25T20:42:04.853684Z",
     "start_time": "2023-08-25T20:42:04.839690Z"
    }
   },
   "outputs": [
    {
     "data": {
      "text/plain": [
       "13.808510975609071"
      ]
     },
     "execution_count": 226,
     "metadata": {},
     "output_type": "execute_result"
    }
   ],
   "source": [
    "(maior_valor_2022 * 100) / dados_2022.sum()"
   ]
  },
  {
   "cell_type": "code",
   "execution_count": 157,
   "metadata": {
    "ExecuteTime": {
     "end_time": "2023-08-25T17:49:49.992727Z",
     "start_time": "2023-08-25T17:49:49.940709Z"
    }
   },
   "outputs": [
    {
     "data": {
      "text/html": [
       "<div>\n",
       "<style scoped>\n",
       "    .dataframe tbody tr th:only-of-type {\n",
       "        vertical-align: middle;\n",
       "    }\n",
       "\n",
       "    .dataframe tbody tr th {\n",
       "        vertical-align: top;\n",
       "    }\n",
       "\n",
       "    .dataframe thead th {\n",
       "        text-align: right;\n",
       "    }\n",
       "</style>\n",
       "<table border=\"1\" class=\"dataframe\">\n",
       "  <thead>\n",
       "    <tr style=\"text-align: right;\">\n",
       "      <th></th>\n",
       "      <th>damesano</th>\n",
       "      <th>coenti</th>\n",
       "      <th>noenti</th>\n",
       "      <th>cogrupo</th>\n",
       "      <th>nogrupo</th>\n",
       "    </tr>\n",
       "  </thead>\n",
       "  <tbody>\n",
       "    <tr>\n",
       "      <th>2016</th>\n",
       "      <td>201207</td>\n",
       "      <td>5312</td>\n",
       "      <td>BRADESCO AUTO/RE COMPANHIA DE SEGUROS         ...</td>\n",
       "      <td>27.00</td>\n",
       "      <td>BRADESCO</td>\n",
       "    </tr>\n",
       "    <tr>\n",
       "      <th>4511</th>\n",
       "      <td>201405</td>\n",
       "      <td>5312</td>\n",
       "      <td>BRADESCO AUTO/RE COMPANHIA DE SEGUROS         ...</td>\n",
       "      <td>27.00</td>\n",
       "      <td>BRADESCO</td>\n",
       "    </tr>\n",
       "    <tr>\n",
       "      <th>5187</th>\n",
       "      <td>201802</td>\n",
       "      <td>5312</td>\n",
       "      <td>BRADESCO AUTO/RE COMPANHIA DE SEGUROS         ...</td>\n",
       "      <td>27.00</td>\n",
       "      <td>BRADESCO</td>\n",
       "    </tr>\n",
       "    <tr>\n",
       "      <th>5208</th>\n",
       "      <td>201803</td>\n",
       "      <td>5312</td>\n",
       "      <td>BRADESCO AUTO/RE COMPANHIA DE SEGUROS         ...</td>\n",
       "      <td>27.00</td>\n",
       "      <td>BRADESCO</td>\n",
       "    </tr>\n",
       "    <tr>\n",
       "      <th>5781</th>\n",
       "      <td>202207</td>\n",
       "      <td>5312</td>\n",
       "      <td>BRADESCO AUTO/RE COMPANHIA DE SEGUROS         ...</td>\n",
       "      <td>27.00</td>\n",
       "      <td>BRADESCO</td>\n",
       "    </tr>\n",
       "    <tr>\n",
       "      <th>...</th>\n",
       "      <td>...</td>\n",
       "      <td>...</td>\n",
       "      <td>...</td>\n",
       "      <td>...</td>\n",
       "      <td>...</td>\n",
       "    </tr>\n",
       "    <tr>\n",
       "      <th>57602</th>\n",
       "      <td>202208</td>\n",
       "      <td>5312</td>\n",
       "      <td>BRADESCO AUTO/RE COMPANHIA DE SEGUROS         ...</td>\n",
       "      <td>27.00</td>\n",
       "      <td>BRADESCO</td>\n",
       "    </tr>\n",
       "    <tr>\n",
       "      <th>57643</th>\n",
       "      <td>202112</td>\n",
       "      <td>5312</td>\n",
       "      <td>BRADESCO AUTO/RE COMPANHIA DE SEGUROS         ...</td>\n",
       "      <td>27.00</td>\n",
       "      <td>BRADESCO</td>\n",
       "    </tr>\n",
       "    <tr>\n",
       "      <th>57644</th>\n",
       "      <td>202202</td>\n",
       "      <td>5312</td>\n",
       "      <td>BRADESCO AUTO/RE COMPANHIA DE SEGUROS         ...</td>\n",
       "      <td>27.00</td>\n",
       "      <td>BRADESCO</td>\n",
       "    </tr>\n",
       "    <tr>\n",
       "      <th>57645</th>\n",
       "      <td>202203</td>\n",
       "      <td>5312</td>\n",
       "      <td>BRADESCO AUTO/RE COMPANHIA DE SEGUROS         ...</td>\n",
       "      <td>27.00</td>\n",
       "      <td>BRADESCO</td>\n",
       "    </tr>\n",
       "    <tr>\n",
       "      <th>57646</th>\n",
       "      <td>202205</td>\n",
       "      <td>5312</td>\n",
       "      <td>BRADESCO AUTO/RE COMPANHIA DE SEGUROS         ...</td>\n",
       "      <td>27.00</td>\n",
       "      <td>BRADESCO</td>\n",
       "    </tr>\n",
       "  </tbody>\n",
       "</table>\n",
       "<p>290 rows × 5 columns</p>\n",
       "</div>"
      ],
      "text/plain": [
       "      damesano  coenti                                             noenti  \\\n",
       "2016    201207    5312  BRADESCO AUTO/RE COMPANHIA DE SEGUROS         ...   \n",
       "4511    201405    5312  BRADESCO AUTO/RE COMPANHIA DE SEGUROS         ...   \n",
       "5187    201802    5312  BRADESCO AUTO/RE COMPANHIA DE SEGUROS         ...   \n",
       "5208    201803    5312  BRADESCO AUTO/RE COMPANHIA DE SEGUROS         ...   \n",
       "5781    202207    5312  BRADESCO AUTO/RE COMPANHIA DE SEGUROS         ...   \n",
       "...        ...     ...                                                ...   \n",
       "57602   202208    5312  BRADESCO AUTO/RE COMPANHIA DE SEGUROS         ...   \n",
       "57643   202112    5312  BRADESCO AUTO/RE COMPANHIA DE SEGUROS         ...   \n",
       "57644   202202    5312  BRADESCO AUTO/RE COMPANHIA DE SEGUROS         ...   \n",
       "57645   202203    5312  BRADESCO AUTO/RE COMPANHIA DE SEGUROS         ...   \n",
       "57646   202205    5312  BRADESCO AUTO/RE COMPANHIA DE SEGUROS         ...   \n",
       "\n",
       "       cogrupo                                   nogrupo  \n",
       "2016     27.00  BRADESCO                                  \n",
       "4511     27.00  BRADESCO                                  \n",
       "5187     27.00  BRADESCO                                  \n",
       "5208     27.00  BRADESCO                                  \n",
       "5781     27.00  BRADESCO                                  \n",
       "...        ...                                       ...  \n",
       "57602    27.00  BRADESCO                                  \n",
       "57643    27.00  BRADESCO                                  \n",
       "57644    27.00  BRADESCO                                  \n",
       "57645    27.00  BRADESCO                                  \n",
       "57646    27.00  BRADESCO                                  \n",
       "\n",
       "[290 rows x 5 columns]"
      ]
     },
     "execution_count": 157,
     "metadata": {},
     "output_type": "execute_result"
    }
   ],
   "source": [
    "seguradoras[seguradoras['coenti'] == 5312]"
   ]
  },
  {
   "cell_type": "markdown",
   "metadata": {},
   "source": [
    "# Empresa que Mais Faturou até o momento em 2023 (Prêmios)"
   ]
  },
  {
   "cell_type": "code",
   "execution_count": 158,
   "metadata": {
    "ExecuteTime": {
     "end_time": "2023-08-25T17:50:21.614221Z",
     "start_time": "2023-08-25T17:50:21.598652Z"
    }
   },
   "outputs": [
    {
     "data": {
      "text/plain": [
       "604677354.0"
      ]
     },
     "execution_count": 158,
     "metadata": {},
     "output_type": "execute_result"
    }
   ],
   "source": [
    "dados_2023 = soma_premio_por_coenti_ano[soma_premio_por_coenti_ano.index.get_level_values('Ano') == 2023]\n",
    "maior_valor_2023 = dados_2023.max()\n",
    "maior_valor_2023"
   ]
  },
  {
   "cell_type": "code",
   "execution_count": 159,
   "metadata": {
    "ExecuteTime": {
     "end_time": "2023-08-25T17:52:36.391189Z",
     "start_time": "2023-08-25T17:52:36.357870Z"
    }
   },
   "outputs": [
    {
     "data": {
      "text/html": [
       "<div>\n",
       "<style scoped>\n",
       "    .dataframe tbody tr th:only-of-type {\n",
       "        vertical-align: middle;\n",
       "    }\n",
       "\n",
       "    .dataframe tbody tr th {\n",
       "        vertical-align: top;\n",
       "    }\n",
       "\n",
       "    .dataframe thead th {\n",
       "        text-align: right;\n",
       "    }\n",
       "</style>\n",
       "<table border=\"1\" class=\"dataframe\">\n",
       "  <thead>\n",
       "    <tr style=\"text-align: right;\">\n",
       "      <th></th>\n",
       "      <th>damesano</th>\n",
       "      <th>coenti</th>\n",
       "      <th>noenti</th>\n",
       "      <th>cogrupo</th>\n",
       "      <th>nogrupo</th>\n",
       "    </tr>\n",
       "  </thead>\n",
       "  <tbody>\n",
       "    <tr>\n",
       "      <th>3141</th>\n",
       "      <td>201403</td>\n",
       "      <td>6190</td>\n",
       "      <td>TOKIO MARINE SEGURADORA S.A.                  ...</td>\n",
       "      <td>1222.00</td>\n",
       "      <td>TOKIO MARINE</td>\n",
       "    </tr>\n",
       "    <tr>\n",
       "      <th>3142</th>\n",
       "      <td>201404</td>\n",
       "      <td>6190</td>\n",
       "      <td>TOKIO MARINE SEGURADORA S.A.                  ...</td>\n",
       "      <td>1222.00</td>\n",
       "      <td>TOKIO MARINE</td>\n",
       "    </tr>\n",
       "    <tr>\n",
       "      <th>3582</th>\n",
       "      <td>201710</td>\n",
       "      <td>6190</td>\n",
       "      <td>TOKIO MARINE SEGURADORA S.A.                  ...</td>\n",
       "      <td>1222.00</td>\n",
       "      <td>TOKIO MARINE</td>\n",
       "    </tr>\n",
       "    <tr>\n",
       "      <th>5595</th>\n",
       "      <td>201709</td>\n",
       "      <td>6190</td>\n",
       "      <td>TOKIO MARINE SEGURADORA S.A.                  ...</td>\n",
       "      <td>1222.00</td>\n",
       "      <td>TOKIO MARINE</td>\n",
       "    </tr>\n",
       "    <tr>\n",
       "      <th>5765</th>\n",
       "      <td>201812</td>\n",
       "      <td>6190</td>\n",
       "      <td>TOKIO MARINE SEGURADORA S.A.                  ...</td>\n",
       "      <td>1222.00</td>\n",
       "      <td>TOKIO MARINE</td>\n",
       "    </tr>\n",
       "    <tr>\n",
       "      <th>...</th>\n",
       "      <td>...</td>\n",
       "      <td>...</td>\n",
       "      <td>...</td>\n",
       "      <td>...</td>\n",
       "      <td>...</td>\n",
       "    </tr>\n",
       "    <tr>\n",
       "      <th>57258</th>\n",
       "      <td>202010</td>\n",
       "      <td>6190</td>\n",
       "      <td>TOKIO MARINE SEGURADORA S.A.                  ...</td>\n",
       "      <td>1222.00</td>\n",
       "      <td>TOKIO MARINE</td>\n",
       "    </tr>\n",
       "    <tr>\n",
       "      <th>57260</th>\n",
       "      <td>202011</td>\n",
       "      <td>6190</td>\n",
       "      <td>TOKIO MARINE SEGURADORA S.A.                  ...</td>\n",
       "      <td>1222.00</td>\n",
       "      <td>TOKIO MARINE</td>\n",
       "    </tr>\n",
       "    <tr>\n",
       "      <th>57261</th>\n",
       "      <td>202012</td>\n",
       "      <td>6190</td>\n",
       "      <td>TOKIO MARINE SEGURADORA S.A.                  ...</td>\n",
       "      <td>1222.00</td>\n",
       "      <td>TOKIO MARINE</td>\n",
       "    </tr>\n",
       "    <tr>\n",
       "      <th>57262</th>\n",
       "      <td>202101</td>\n",
       "      <td>6190</td>\n",
       "      <td>TOKIO MARINE SEGURADORA S.A.                  ...</td>\n",
       "      <td>1222.00</td>\n",
       "      <td>TOKIO MARINE</td>\n",
       "    </tr>\n",
       "    <tr>\n",
       "      <th>57263</th>\n",
       "      <td>202102</td>\n",
       "      <td>6190</td>\n",
       "      <td>TOKIO MARINE SEGURADORA S.A.                  ...</td>\n",
       "      <td>1222.00</td>\n",
       "      <td>TOKIO MARINE</td>\n",
       "    </tr>\n",
       "  </tbody>\n",
       "</table>\n",
       "<p>289 rows × 5 columns</p>\n",
       "</div>"
      ],
      "text/plain": [
       "      damesano  coenti                                             noenti  \\\n",
       "3141    201403    6190  TOKIO MARINE SEGURADORA S.A.                  ...   \n",
       "3142    201404    6190  TOKIO MARINE SEGURADORA S.A.                  ...   \n",
       "3582    201710    6190  TOKIO MARINE SEGURADORA S.A.                  ...   \n",
       "5595    201709    6190  TOKIO MARINE SEGURADORA S.A.                  ...   \n",
       "5765    201812    6190  TOKIO MARINE SEGURADORA S.A.                  ...   \n",
       "...        ...     ...                                                ...   \n",
       "57258   202010    6190  TOKIO MARINE SEGURADORA S.A.                  ...   \n",
       "57260   202011    6190  TOKIO MARINE SEGURADORA S.A.                  ...   \n",
       "57261   202012    6190  TOKIO MARINE SEGURADORA S.A.                  ...   \n",
       "57262   202101    6190  TOKIO MARINE SEGURADORA S.A.                  ...   \n",
       "57263   202102    6190  TOKIO MARINE SEGURADORA S.A.                  ...   \n",
       "\n",
       "       cogrupo                                   nogrupo  \n",
       "3141   1222.00  TOKIO MARINE                              \n",
       "3142   1222.00  TOKIO MARINE                              \n",
       "3582   1222.00  TOKIO MARINE                              \n",
       "5595   1222.00  TOKIO MARINE                              \n",
       "5765   1222.00  TOKIO MARINE                              \n",
       "...        ...                                       ...  \n",
       "57258  1222.00  TOKIO MARINE                              \n",
       "57260  1222.00  TOKIO MARINE                              \n",
       "57261  1222.00  TOKIO MARINE                              \n",
       "57262  1222.00  TOKIO MARINE                              \n",
       "57263  1222.00  TOKIO MARINE                              \n",
       "\n",
       "[289 rows x 5 columns]"
      ]
     },
     "execution_count": 159,
     "metadata": {},
     "output_type": "execute_result"
    }
   ],
   "source": [
    "seguradoras[seguradoras['coenti'] == 6190]"
   ]
  },
  {
   "cell_type": "markdown",
   "metadata": {},
   "source": [
    "# Top 3 empresas que tiveram maior variação de faturamento nos últimos 5 anos (Prêmios)"
   ]
  },
  {
   "cell_type": "markdown",
   "metadata": {},
   "source": [
    "# Crescimento de Sinistros por Ano"
   ]
  },
  {
   "cell_type": "code",
   "execution_count": 172,
   "metadata": {
    "ExecuteTime": {
     "end_time": "2023-08-25T18:05:07.962879Z",
     "start_time": "2023-08-25T18:05:07.903528Z"
    }
   },
   "outputs": [
    {
     "name": "stderr",
     "output_type": "stream",
     "text": [
      "/var/folders/39/b_95705d30x7x38r03qf35500000gn/T/ipykernel_36974/1351732683.py:1: FutureWarning: Indexing with multiple keys (implicitly converted to a tuple of keys) will be deprecated, use a list instead.\n",
      "  sinistros_5_anos_agregado = seguros_5_anos_filtrado.groupby(['coenti', 'Mês', 'Ano'])['sinistro_direto', 'sinistro_retido', 'sinistro_ocorrido'].sum()\n"
     ]
    }
   ],
   "source": [
    "sinistros_5_anos_agregado = seguros_5_anos_filtrado.groupby(['coenti', 'Mês', 'Ano'])['sinistro_direto', 'sinistro_retido', 'sinistro_ocorrido'].sum()"
   ]
  },
  {
   "cell_type": "code",
   "execution_count": 174,
   "metadata": {
    "ExecuteTime": {
     "end_time": "2023-08-25T18:05:15.801654Z",
     "start_time": "2023-08-25T18:05:15.794692Z"
    }
   },
   "outputs": [],
   "source": [
    "sinistros_5_anos_agregado['sinistro_ocorrido'] = sinistros_5_anos_agregado['sinistro_ocorrido'].abs()"
   ]
  },
  {
   "cell_type": "code",
   "execution_count": 186,
   "metadata": {
    "ExecuteTime": {
     "end_time": "2023-08-25T18:12:06.190147Z",
     "start_time": "2023-08-25T18:12:06.178393Z"
    }
   },
   "outputs": [
    {
     "data": {
      "text/plain": [
       "Ano\n",
       "2018   583800792.00\n",
       "2019   765498112.00\n",
       "2020   782807434.00\n",
       "2021   765791302.00\n",
       "2022   947332453.00\n",
       "2023   576077100.00\n",
       "Name: sinistro_ocorrido, dtype: float64"
      ]
     },
     "execution_count": 186,
     "metadata": {},
     "output_type": "execute_result"
    }
   ],
   "source": [
    "soma_sinistros_por_ano = sinistros_5_anos_agregado.groupby('Ano')['sinistro_ocorrido'].sum()\n",
    "soma_sinistros_por_ano"
   ]
  },
  {
   "cell_type": "markdown",
   "metadata": {},
   "source": [
    "# Empresa que teve maior gastos de Sinistros (Sinitros)"
   ]
  },
  {
   "cell_type": "code",
   "execution_count": 181,
   "metadata": {
    "ExecuteTime": {
     "end_time": "2023-08-25T18:09:16.861669Z",
     "start_time": "2023-08-25T18:09:16.851971Z"
    }
   },
   "outputs": [],
   "source": [
    "soma_sinistros_por_coenti = sinistros_5_anos_agregado.groupby('coenti')['sinistro_ocorrido'].sum()"
   ]
  },
  {
   "cell_type": "code",
   "execution_count": 182,
   "metadata": {
    "ExecuteTime": {
     "end_time": "2023-08-25T18:09:21.002949Z",
     "start_time": "2023-08-25T18:09:20.991252Z"
    }
   },
   "outputs": [
    {
     "data": {
      "text/plain": [
       "coenti\n",
       "6238   569598805.00\n",
       "5177   434128016.00\n",
       "6190   330622390.00\n",
       "6513   287820069.00\n",
       "5355   248392910.00\n",
       "           ...     \n",
       "3093           0.00\n",
       "5657           0.00\n",
       "6360           0.00\n",
       "2879           0.00\n",
       "4715           0.00\n",
       "Name: sinistro_ocorrido, Length: 146, dtype: float64"
      ]
     },
     "execution_count": 182,
     "metadata": {},
     "output_type": "execute_result"
    }
   ],
   "source": [
    "soma_sinistros_por_coenti.sort_values(ascending=False)"
   ]
  },
  {
   "cell_type": "code",
   "execution_count": 183,
   "metadata": {
    "ExecuteTime": {
     "end_time": "2023-08-25T18:09:44.733199Z",
     "start_time": "2023-08-25T18:09:44.705585Z"
    }
   },
   "outputs": [
    {
     "data": {
      "text/html": [
       "<div>\n",
       "<style scoped>\n",
       "    .dataframe tbody tr th:only-of-type {\n",
       "        vertical-align: middle;\n",
       "    }\n",
       "\n",
       "    .dataframe tbody tr th {\n",
       "        vertical-align: top;\n",
       "    }\n",
       "\n",
       "    .dataframe thead th {\n",
       "        text-align: right;\n",
       "    }\n",
       "</style>\n",
       "<table border=\"1\" class=\"dataframe\">\n",
       "  <thead>\n",
       "    <tr style=\"text-align: right;\">\n",
       "      <th></th>\n",
       "      <th>damesano</th>\n",
       "      <th>coenti</th>\n",
       "      <th>noenti</th>\n",
       "      <th>cogrupo</th>\n",
       "      <th>nogrupo</th>\n",
       "    </tr>\n",
       "  </thead>\n",
       "  <tbody>\n",
       "    <tr>\n",
       "      <th>398</th>\n",
       "      <td>201401</td>\n",
       "      <td>6238</td>\n",
       "      <td>MAPFRE SEGUROS GERAIS S.A.                    ...</td>\n",
       "      <td>99999.00</td>\n",
       "      <td>OUTROS GRUPOS</td>\n",
       "    </tr>\n",
       "    <tr>\n",
       "      <th>399</th>\n",
       "      <td>201402</td>\n",
       "      <td>6238</td>\n",
       "      <td>MAPFRE SEGUROS GERAIS S.A.                    ...</td>\n",
       "      <td>99999.00</td>\n",
       "      <td>OUTROS GRUPOS</td>\n",
       "    </tr>\n",
       "    <tr>\n",
       "      <th>446</th>\n",
       "      <td>201403</td>\n",
       "      <td>6238</td>\n",
       "      <td>MAPFRE SEGUROS GERAIS S.A.                    ...</td>\n",
       "      <td>99999.00</td>\n",
       "      <td>OUTROS GRUPOS</td>\n",
       "    </tr>\n",
       "    <tr>\n",
       "      <th>3231</th>\n",
       "      <td>201905</td>\n",
       "      <td>6238</td>\n",
       "      <td>MAPFRE SEGUROS GERAIS S.A.                    ...</td>\n",
       "      <td>1212.00</td>\n",
       "      <td>MAPFRE</td>\n",
       "    </tr>\n",
       "    <tr>\n",
       "      <th>3288</th>\n",
       "      <td>201505</td>\n",
       "      <td>6238</td>\n",
       "      <td>MAPFRE SEGUROS GERAIS S.A.                    ...</td>\n",
       "      <td>99999.00</td>\n",
       "      <td>OUTROS GRUPOS</td>\n",
       "    </tr>\n",
       "    <tr>\n",
       "      <th>...</th>\n",
       "      <td>...</td>\n",
       "      <td>...</td>\n",
       "      <td>...</td>\n",
       "      <td>...</td>\n",
       "      <td>...</td>\n",
       "    </tr>\n",
       "    <tr>\n",
       "      <th>57678</th>\n",
       "      <td>202012</td>\n",
       "      <td>6238</td>\n",
       "      <td>MAPFRE SEGUROS GERAIS S.A.                    ...</td>\n",
       "      <td>1212.00</td>\n",
       "      <td>MAPFRE</td>\n",
       "    </tr>\n",
       "    <tr>\n",
       "      <th>57694</th>\n",
       "      <td>202003</td>\n",
       "      <td>6238</td>\n",
       "      <td>MAPFRE SEGUROS GERAIS S.A.                    ...</td>\n",
       "      <td>1212.00</td>\n",
       "      <td>MAPFRE</td>\n",
       "    </tr>\n",
       "    <tr>\n",
       "      <th>57764</th>\n",
       "      <td>202005</td>\n",
       "      <td>6238</td>\n",
       "      <td>MAPFRE SEGUROS GERAIS S.A.                    ...</td>\n",
       "      <td>1212.00</td>\n",
       "      <td>MAPFRE</td>\n",
       "    </tr>\n",
       "    <tr>\n",
       "      <th>57766</th>\n",
       "      <td>202112</td>\n",
       "      <td>6238</td>\n",
       "      <td>MAPFRE SEGUROS GERAIS S.A.                    ...</td>\n",
       "      <td>1212.00</td>\n",
       "      <td>MAPFRE</td>\n",
       "    </tr>\n",
       "    <tr>\n",
       "      <th>57767</th>\n",
       "      <td>202101</td>\n",
       "      <td>6238</td>\n",
       "      <td>MAPFRE SEGUROS GERAIS S.A.                    ...</td>\n",
       "      <td>1212.00</td>\n",
       "      <td>MAPFRE</td>\n",
       "    </tr>\n",
       "  </tbody>\n",
       "</table>\n",
       "<p>289 rows × 5 columns</p>\n",
       "</div>"
      ],
      "text/plain": [
       "      damesano  coenti                                             noenti  \\\n",
       "398     201401    6238  MAPFRE SEGUROS GERAIS S.A.                    ...   \n",
       "399     201402    6238  MAPFRE SEGUROS GERAIS S.A.                    ...   \n",
       "446     201403    6238  MAPFRE SEGUROS GERAIS S.A.                    ...   \n",
       "3231    201905    6238  MAPFRE SEGUROS GERAIS S.A.                    ...   \n",
       "3288    201505    6238  MAPFRE SEGUROS GERAIS S.A.                    ...   \n",
       "...        ...     ...                                                ...   \n",
       "57678   202012    6238  MAPFRE SEGUROS GERAIS S.A.                    ...   \n",
       "57694   202003    6238  MAPFRE SEGUROS GERAIS S.A.                    ...   \n",
       "57764   202005    6238  MAPFRE SEGUROS GERAIS S.A.                    ...   \n",
       "57766   202112    6238  MAPFRE SEGUROS GERAIS S.A.                    ...   \n",
       "57767   202101    6238  MAPFRE SEGUROS GERAIS S.A.                    ...   \n",
       "\n",
       "       cogrupo                                   nogrupo  \n",
       "398   99999.00  OUTROS GRUPOS                             \n",
       "399   99999.00  OUTROS GRUPOS                             \n",
       "446   99999.00  OUTROS GRUPOS                             \n",
       "3231   1212.00  MAPFRE                                    \n",
       "3288  99999.00  OUTROS GRUPOS                             \n",
       "...        ...                                       ...  \n",
       "57678  1212.00  MAPFRE                                    \n",
       "57694  1212.00  MAPFRE                                    \n",
       "57764  1212.00  MAPFRE                                    \n",
       "57766  1212.00  MAPFRE                                    \n",
       "57767  1212.00  MAPFRE                                    \n",
       "\n",
       "[289 rows x 5 columns]"
      ]
     },
     "execution_count": 183,
     "metadata": {},
     "output_type": "execute_result"
    }
   ],
   "source": [
    "seguradoras[seguradoras['coenti'] == 6238]"
   ]
  },
  {
   "cell_type": "markdown",
   "metadata": {},
   "source": [
    "# Aquisições"
   ]
  },
  {
   "cell_type": "code",
   "execution_count": 196,
   "metadata": {
    "ExecuteTime": {
     "end_time": "2023-08-25T19:54:38.893649Z",
     "start_time": "2023-08-25T19:54:38.857194Z"
    }
   },
   "outputs": [],
   "source": [
    "codigos_unicos = seguros_5_anos_filtrado['coenti'].unique()"
   ]
  },
  {
   "cell_type": "code",
   "execution_count": 199,
   "metadata": {
    "ExecuteTime": {
     "end_time": "2023-08-25T19:56:07.717752Z",
     "start_time": "2023-08-25T19:56:07.703129Z"
    }
   },
   "outputs": [
    {
     "ename": "TypeError",
     "evalue": "'Index' object is not callable",
     "output_type": "error",
     "traceback": [
      "\u001b[0;31m---------------------------------------------------------------------------\u001b[0m",
      "\u001b[0;31mTypeError\u001b[0m                                 Traceback (most recent call last)",
      "\u001b[0;32m/var/folders/39/b_95705d30x7x38r03qf35500000gn/T/ipykernel_36974/1579231870.py\u001b[0m in \u001b[0;36m<module>\u001b[0;34m\u001b[0m\n\u001b[0;32m----> 1\u001b[0;31m \u001b[0mseguros_5_anos_filtrado\u001b[0m\u001b[0;34m.\u001b[0m\u001b[0mcolumns\u001b[0m\u001b[0;34m(\u001b[0m\u001b[0;34m)\u001b[0m\u001b[0;34m\u001b[0m\u001b[0;34m\u001b[0m\u001b[0m\n\u001b[0m",
      "\u001b[0;31mTypeError\u001b[0m: 'Index' object is not callable"
     ]
    }
   ],
   "source": [
    "seguros_5_anos_filtrado.columns()"
   ]
  },
  {
   "cell_type": "code",
   "execution_count": 197,
   "metadata": {
    "ExecuteTime": {
     "end_time": "2023-08-25T19:55:42.225178Z",
     "start_time": "2023-08-25T19:55:42.182278Z"
    }
   },
   "outputs": [
    {
     "ename": "KeyError",
     "evalue": "'Column not found: noenti'",
     "output_type": "error",
     "traceback": [
      "\u001b[0;31m---------------------------------------------------------------------------\u001b[0m",
      "\u001b[0;31mKeyError\u001b[0m                                  Traceback (most recent call last)",
      "\u001b[0;32m/var/folders/39/b_95705d30x7x38r03qf35500000gn/T/ipykernel_36974/2278149991.py\u001b[0m in \u001b[0;36m<module>\u001b[0;34m\u001b[0m\n\u001b[0;32m----> 1\u001b[0;31m \u001b[0mmudancas_por_codigo\u001b[0m \u001b[0;34m=\u001b[0m \u001b[0mseguros_5_anos_filtrado\u001b[0m\u001b[0;34m.\u001b[0m\u001b[0mgroupby\u001b[0m\u001b[0;34m(\u001b[0m\u001b[0;34m'coenti'\u001b[0m\u001b[0;34m)\u001b[0m\u001b[0;34m[\u001b[0m\u001b[0;34m'noenti'\u001b[0m\u001b[0;34m]\u001b[0m\u001b[0;34m.\u001b[0m\u001b[0mapply\u001b[0m\u001b[0;34m(\u001b[0m\u001b[0;32mlambda\u001b[0m \u001b[0mx\u001b[0m\u001b[0;34m:\u001b[0m \u001b[0;34m(\u001b[0m\u001b[0mx\u001b[0m \u001b[0;34m!=\u001b[0m \u001b[0mx\u001b[0m\u001b[0;34m.\u001b[0m\u001b[0mshift\u001b[0m\u001b[0;34m(\u001b[0m\u001b[0;34m)\u001b[0m\u001b[0;34m)\u001b[0m\u001b[0;34m.\u001b[0m\u001b[0msum\u001b[0m\u001b[0;34m(\u001b[0m\u001b[0;34m)\u001b[0m\u001b[0;34m)\u001b[0m\u001b[0;34m\u001b[0m\u001b[0;34m\u001b[0m\u001b[0m\n\u001b[0m",
      "\u001b[0;32m~/opt/anaconda3/lib/python3.9/site-packages/pandas/core/groupby/generic.py\u001b[0m in \u001b[0;36m__getitem__\u001b[0;34m(self, key)\u001b[0m\n\u001b[1;32m   1336\u001b[0m                 \u001b[0mstacklevel\u001b[0m\u001b[0;34m=\u001b[0m\u001b[0mfind_stack_level\u001b[0m\u001b[0;34m(\u001b[0m\u001b[0;34m)\u001b[0m\u001b[0;34m,\u001b[0m\u001b[0;34m\u001b[0m\u001b[0;34m\u001b[0m\u001b[0m\n\u001b[1;32m   1337\u001b[0m             )\n\u001b[0;32m-> 1338\u001b[0;31m         \u001b[0;32mreturn\u001b[0m \u001b[0msuper\u001b[0m\u001b[0;34m(\u001b[0m\u001b[0;34m)\u001b[0m\u001b[0;34m.\u001b[0m\u001b[0m__getitem__\u001b[0m\u001b[0;34m(\u001b[0m\u001b[0mkey\u001b[0m\u001b[0;34m)\u001b[0m\u001b[0;34m\u001b[0m\u001b[0;34m\u001b[0m\u001b[0m\n\u001b[0m\u001b[1;32m   1339\u001b[0m \u001b[0;34m\u001b[0m\u001b[0m\n\u001b[1;32m   1340\u001b[0m     \u001b[0;32mdef\u001b[0m \u001b[0m_gotitem\u001b[0m\u001b[0;34m(\u001b[0m\u001b[0mself\u001b[0m\u001b[0;34m,\u001b[0m \u001b[0mkey\u001b[0m\u001b[0;34m,\u001b[0m \u001b[0mndim\u001b[0m\u001b[0;34m:\u001b[0m \u001b[0mint\u001b[0m\u001b[0;34m,\u001b[0m \u001b[0msubset\u001b[0m\u001b[0;34m=\u001b[0m\u001b[0;32mNone\u001b[0m\u001b[0;34m)\u001b[0m\u001b[0;34m:\u001b[0m\u001b[0;34m\u001b[0m\u001b[0;34m\u001b[0m\u001b[0m\n",
      "\u001b[0;32m~/opt/anaconda3/lib/python3.9/site-packages/pandas/core/base.py\u001b[0m in \u001b[0;36m__getitem__\u001b[0;34m(self, key)\u001b[0m\n\u001b[1;32m    248\u001b[0m         \u001b[0;32melse\u001b[0m\u001b[0;34m:\u001b[0m\u001b[0;34m\u001b[0m\u001b[0;34m\u001b[0m\u001b[0m\n\u001b[1;32m    249\u001b[0m             \u001b[0;32mif\u001b[0m \u001b[0mkey\u001b[0m \u001b[0;32mnot\u001b[0m \u001b[0;32min\u001b[0m \u001b[0mself\u001b[0m\u001b[0;34m.\u001b[0m\u001b[0mobj\u001b[0m\u001b[0;34m:\u001b[0m\u001b[0;34m\u001b[0m\u001b[0;34m\u001b[0m\u001b[0m\n\u001b[0;32m--> 250\u001b[0;31m                 \u001b[0;32mraise\u001b[0m \u001b[0mKeyError\u001b[0m\u001b[0;34m(\u001b[0m\u001b[0;34mf\"Column not found: {key}\"\u001b[0m\u001b[0;34m)\u001b[0m\u001b[0;34m\u001b[0m\u001b[0;34m\u001b[0m\u001b[0m\n\u001b[0m\u001b[1;32m    251\u001b[0m             \u001b[0msubset\u001b[0m \u001b[0;34m=\u001b[0m \u001b[0mself\u001b[0m\u001b[0;34m.\u001b[0m\u001b[0mobj\u001b[0m\u001b[0;34m[\u001b[0m\u001b[0mkey\u001b[0m\u001b[0;34m]\u001b[0m\u001b[0;34m\u001b[0m\u001b[0;34m\u001b[0m\u001b[0m\n\u001b[1;32m    252\u001b[0m             \u001b[0mndim\u001b[0m \u001b[0;34m=\u001b[0m \u001b[0msubset\u001b[0m\u001b[0;34m.\u001b[0m\u001b[0mndim\u001b[0m\u001b[0;34m\u001b[0m\u001b[0;34m\u001b[0m\u001b[0m\n",
      "\u001b[0;31mKeyError\u001b[0m: 'Column not found: noenti'"
     ]
    }
   ],
   "source": [
    "\n",
    "mudancas_por_codigo = seguros_5_anos_filtrado.groupby('coenti')['noenti'].apply(lambda x: (x != x.shift()).sum())"
   ]
  },
  {
   "cell_type": "markdown",
   "metadata": {},
   "source": [
    "# UF com maior taxa de Sinistralidade nos últimos 5 anos"
   ]
  },
  {
   "cell_type": "markdown",
   "metadata": {},
   "source": [
    "# UF com maior taxa de Sinistralidade em 2022"
   ]
  },
  {
   "cell_type": "code",
   "execution_count": 206,
   "metadata": {
    "ExecuteTime": {
     "end_time": "2023-08-25T20:03:59.591010Z",
     "start_time": "2023-08-25T20:03:59.580875Z"
    }
   },
   "outputs": [
    {
     "data": {
      "text/plain": [
       "Index(['coenti', 'damesano', 'ramos', 'UF', 'premio_dir', 'premio_ret',\n",
       "       'sin_dir', 'prem_ret_liq', 'gracodigo', 'salvados', 'recuperacao'],\n",
       "      dtype='object')"
      ]
     },
     "execution_count": 206,
     "metadata": {},
     "output_type": "execute_result"
    }
   ],
   "source": [
    "seguros_uf.columns"
   ]
  },
  {
   "cell_type": "code",
   "execution_count": 208,
   "metadata": {
    "ExecuteTime": {
     "end_time": "2023-08-25T20:05:38.391108Z",
     "start_time": "2023-08-25T20:05:38.361077Z"
    }
   },
   "outputs": [
    {
     "name": "stdout",
     "output_type": "stream",
     "text": [
      "<class 'pandas.core.frame.DataFrame'>\n",
      "RangeIndex: 8291415 entries, 0 to 8291414\n",
      "Data columns (total 11 columns):\n",
      " #   Column        Dtype \n",
      "---  ------        ----- \n",
      " 0   coenti        int64 \n",
      " 1   damesano      int64 \n",
      " 2   ramos         int64 \n",
      " 3   UF            object\n",
      " 4   premio_dir    object\n",
      " 5   premio_ret    object\n",
      " 6   sin_dir       object\n",
      " 7   prem_ret_liq  object\n",
      " 8   gracodigo     int64 \n",
      " 9   salvados      object\n",
      " 10  recuperacao   object\n",
      "dtypes: int64(4), object(7)\n",
      "memory usage: 695.8+ MB\n"
     ]
    }
   ],
   "source": [
    "seguros_uf.info()"
   ]
  },
  {
   "cell_type": "code",
   "execution_count": 210,
   "metadata": {
    "ExecuteTime": {
     "end_time": "2023-08-25T20:08:00.967046Z",
     "start_time": "2023-08-25T20:07:42.414440Z"
    }
   },
   "outputs": [],
   "source": [
    "seguros_uf['premio_dir'] = pd.to_numeric(seguros_uf['premio_dir'], errors='coerce')\n",
    "seguros_uf['premio_ret'] = pd.to_numeric(seguros_uf['premio_ret'], errors='coerce')\n",
    "seguros_uf['sin_dir'] = pd.to_numeric(seguros_uf['sin_dir'], errors='coerce')\n",
    "seguros_uf['prem_ret_liq'] = pd.to_numeric(seguros_uf['prem_ret_liq'], errors='coerce')\n",
    "seguros_uf['gracodigo'] = pd.to_numeric(seguros_uf['gracodigo'], errors='coerce')\n",
    "seguros_uf['salvados'] = pd.to_numeric(seguros_uf['salvados'], errors='coerce')\n",
    "seguros_uf['recuperacao'] = pd.to_numeric(seguros_uf['recuperacao'], errors='coerce')"
   ]
  },
  {
   "cell_type": "code",
   "execution_count": 211,
   "metadata": {
    "ExecuteTime": {
     "end_time": "2023-08-25T20:08:06.197304Z",
     "start_time": "2023-08-25T20:08:03.999330Z"
    }
   },
   "outputs": [],
   "source": [
    "seguros_uf_colunas_positivas = ['premio_dir', 'premio_ret', 'sin_dir', 'prem_ret_liq', 'gracodigo', 'salvados', 'recuperacao']\n",
    "seguros_uf[seguros_uf_colunas_positivas] = seguros_uf[seguros_uf_colunas_positivas].abs()"
   ]
  },
  {
   "cell_type": "code",
   "execution_count": 218,
   "metadata": {
    "ExecuteTime": {
     "end_time": "2023-08-25T20:14:26.039582Z",
     "start_time": "2023-08-25T20:14:14.197007Z"
    }
   },
   "outputs": [
    {
     "data": {
      "text/plain": [
       "0          200811\n",
       "1          200507\n",
       "2          200511\n",
       "3          200501\n",
       "4          200612\n",
       "            ...  \n",
       "8291410    202207\n",
       "8291411    202207\n",
       "8291412    202207\n",
       "8291413    202206\n",
       "8291414    202206\n",
       "Name: damesano, Length: 8291415, dtype: int64"
      ]
     },
     "execution_count": 218,
     "metadata": {},
     "output_type": "execute_result"
    }
   ],
   "source": [
    "seguros_uf['Mês'] = seguros_uf['damesano'].astype(str).str[-2:]\n",
    "\n",
    "seguros_uf['Ano'] = seguros_uf['damesano'].astype(str).str[:4]\n",
    "\n",
    "seguros_uf['Mês'].astype(int)\n",
    "seguros_uf['Ano'].astype(int)\n",
    "seguros_uf['damesano'].astype(int)"
   ]
  },
  {
   "cell_type": "code",
   "execution_count": 220,
   "metadata": {
    "ExecuteTime": {
     "end_time": "2023-08-25T20:15:27.903162Z",
     "start_time": "2023-08-25T20:15:25.644613Z"
    }
   },
   "outputs": [],
   "source": [
    "seguros_uf_5_anos = seguros_uf[seguros_uf['damesano']>=201801]"
   ]
  },
  {
   "cell_type": "code",
   "execution_count": 221,
   "metadata": {
    "ExecuteTime": {
     "end_time": "2023-08-25T20:15:33.143103Z",
     "start_time": "2023-08-25T20:15:32.627853Z"
    },
    "scrolled": false
   },
   "outputs": [
    {
     "name": "stderr",
     "output_type": "stream",
     "text": [
      "/var/folders/39/b_95705d30x7x38r03qf35500000gn/T/ipykernel_36974/1477287635.py:1: FutureWarning: Indexing with multiple keys (implicitly converted to a tuple of keys) will be deprecated, use a list instead.\n",
      "  seguros_uf_agregado = seguros_uf_5_anos.groupby(['UF','Ano'])['premio_dir', 'premio_ret','sin_dir'].sum()\n"
     ]
    }
   ],
   "source": [
    "seguros_uf_agregado = seguros_uf_5_anos.groupby(['UF','Ano'])['premio_dir', 'premio_ret','sin_dir'].sum()\n"
   ]
  },
  {
   "cell_type": "code",
   "execution_count": 222,
   "metadata": {
    "ExecuteTime": {
     "end_time": "2023-08-25T20:15:34.932191Z",
     "start_time": "2023-08-25T20:15:34.904559Z"
    }
   },
   "outputs": [
    {
     "data": {
      "text/html": [
       "<div>\n",
       "<style scoped>\n",
       "    .dataframe tbody tr th:only-of-type {\n",
       "        vertical-align: middle;\n",
       "    }\n",
       "\n",
       "    .dataframe tbody tr th {\n",
       "        vertical-align: top;\n",
       "    }\n",
       "\n",
       "    .dataframe thead th {\n",
       "        text-align: right;\n",
       "    }\n",
       "</style>\n",
       "<table border=\"1\" class=\"dataframe\">\n",
       "  <thead>\n",
       "    <tr style=\"text-align: right;\">\n",
       "      <th></th>\n",
       "      <th></th>\n",
       "      <th>premio_dir</th>\n",
       "      <th>premio_ret</th>\n",
       "      <th>sin_dir</th>\n",
       "    </tr>\n",
       "    <tr>\n",
       "      <th>UF</th>\n",
       "      <th>Ano</th>\n",
       "      <th></th>\n",
       "      <th></th>\n",
       "      <th></th>\n",
       "    </tr>\n",
       "  </thead>\n",
       "  <tbody>\n",
       "    <tr>\n",
       "      <th rowspan=\"5\" valign=\"top\">AC</th>\n",
       "      <th>2018</th>\n",
       "      <td>2000118.00</td>\n",
       "      <td>704617.00</td>\n",
       "      <td>4256295.00</td>\n",
       "    </tr>\n",
       "    <tr>\n",
       "      <th>2019</th>\n",
       "      <td>1694259.00</td>\n",
       "      <td>1114835.00</td>\n",
       "      <td>3462538.00</td>\n",
       "    </tr>\n",
       "    <tr>\n",
       "      <th>2020</th>\n",
       "      <td>7535150.00</td>\n",
       "      <td>6289945.00</td>\n",
       "      <td>4548995.00</td>\n",
       "    </tr>\n",
       "    <tr>\n",
       "      <th>2021</th>\n",
       "      <td>10071780.00</td>\n",
       "      <td>9515199.00</td>\n",
       "      <td>3959142.00</td>\n",
       "    </tr>\n",
       "    <tr>\n",
       "      <th>2022</th>\n",
       "      <td>8630957.00</td>\n",
       "      <td>7449109.00</td>\n",
       "      <td>3955366.00</td>\n",
       "    </tr>\n",
       "    <tr>\n",
       "      <th>...</th>\n",
       "      <th>...</th>\n",
       "      <td>...</td>\n",
       "      <td>...</td>\n",
       "      <td>...</td>\n",
       "    </tr>\n",
       "    <tr>\n",
       "      <th rowspan=\"5\" valign=\"top\">TO</th>\n",
       "      <th>2019</th>\n",
       "      <td>9179069.00</td>\n",
       "      <td>3757085.00</td>\n",
       "      <td>11715318.00</td>\n",
       "    </tr>\n",
       "    <tr>\n",
       "      <th>2020</th>\n",
       "      <td>11564566.00</td>\n",
       "      <td>7180509.00</td>\n",
       "      <td>20821356.00</td>\n",
       "    </tr>\n",
       "    <tr>\n",
       "      <th>2021</th>\n",
       "      <td>21981088.00</td>\n",
       "      <td>11996004.00</td>\n",
       "      <td>15414592.00</td>\n",
       "    </tr>\n",
       "    <tr>\n",
       "      <th>2022</th>\n",
       "      <td>28624179.00</td>\n",
       "      <td>12543857.00</td>\n",
       "      <td>22519517.00</td>\n",
       "    </tr>\n",
       "    <tr>\n",
       "      <th>2023</th>\n",
       "      <td>6970645.00</td>\n",
       "      <td>5685044.00</td>\n",
       "      <td>5651487.00</td>\n",
       "    </tr>\n",
       "  </tbody>\n",
       "</table>\n",
       "<p>162 rows × 3 columns</p>\n",
       "</div>"
      ],
      "text/plain": [
       "         premio_dir  premio_ret     sin_dir\n",
       "UF Ano                                     \n",
       "AC 2018  2000118.00   704617.00  4256295.00\n",
       "   2019  1694259.00  1114835.00  3462538.00\n",
       "   2020  7535150.00  6289945.00  4548995.00\n",
       "   2021 10071780.00  9515199.00  3959142.00\n",
       "   2022  8630957.00  7449109.00  3955366.00\n",
       "...             ...         ...         ...\n",
       "TO 2019  9179069.00  3757085.00 11715318.00\n",
       "   2020 11564566.00  7180509.00 20821356.00\n",
       "   2021 21981088.00 11996004.00 15414592.00\n",
       "   2022 28624179.00 12543857.00 22519517.00\n",
       "   2023  6970645.00  5685044.00  5651487.00\n",
       "\n",
       "[162 rows x 3 columns]"
      ]
     },
     "execution_count": 222,
     "metadata": {},
     "output_type": "execute_result"
    }
   ],
   "source": [
    "seguros_uf_agregado"
   ]
  },
  {
   "cell_type": "code",
   "execution_count": 223,
   "metadata": {
    "ExecuteTime": {
     "end_time": "2023-08-25T20:16:10.094300Z",
     "start_time": "2023-08-25T20:16:10.071714Z"
    }
   },
   "outputs": [],
   "source": [
    "seguros_uf_agregado.to_csv('seguros_uf_agregado.csv')"
   ]
  },
  {
   "cell_type": "code",
   "execution_count": null,
   "metadata": {},
   "outputs": [],
   "source": []
  }
 ],
 "metadata": {
  "kernelspec": {
   "display_name": "Python 3 (ipykernel)",
   "language": "python",
   "name": "python3"
  },
  "language_info": {
   "codemirror_mode": {
    "name": "ipython",
    "version": 3
   },
   "file_extension": ".py",
   "mimetype": "text/x-python",
   "name": "python",
   "nbconvert_exporter": "python",
   "pygments_lexer": "ipython3",
   "version": "3.9.13"
  }
 },
 "nbformat": 4,
 "nbformat_minor": 2
}
